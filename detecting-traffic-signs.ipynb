{
 "cells": [
  {
   "cell_type": "markdown",
   "id": "cce48eba",
   "metadata": {},
   "source": [
    "## Alexnet Architecture"
   ]
  },
  {
   "cell_type": "markdown",
   "id": "c45fa89b",
   "metadata": {},
   "source": [
    "![Alexnet](https://miro.medium.com/v2/resize:fit:1400/format:webp/0*pJ3o_2zTTNnixhKH.png)"
   ]
  },
  {
   "cell_type": "markdown",
   "id": "7b6e2316",
   "metadata": {},
   "source": [
    "## Importing libraries"
   ]
  },
  {
   "cell_type": "code",
   "execution_count": 1,
   "id": "1d31b6ce",
   "metadata": {},
   "outputs": [],
   "source": [
    "%matplotlib inline\n",
    "from matplotlib import pyplot as plt\n",
    "from PIL import Image as im\n",
    "import pickle\n",
    "import tensorflow as tf\n",
    "from tensorflow.keras.models import Sequential\n",
    "from tensorflow.keras.layers import Dense, Conv2D, MaxPooling2D, Dropout, Flatten\n",
    "import keras\n",
    "from keras import layers\n",
    "from keras.models import Model\n",
    "from keras.layers import Input, GlobalAveragePooling2D, concatenate, AveragePooling2D"
   ]
  },
  {
   "cell_type": "code",
   "execution_count": 2,
   "id": "0826fa60",
   "metadata": {},
   "outputs": [],
   "source": [
    "import pickle\n",
    "\n",
    "with open(\"C://Users//aksha//Downloads//archive//train.p\", \"rb\") as f:\n",
    "    train = pickle.load(f)\n",
    "    \n",
    "with open(\"C://Users//aksha//Downloads//archive//test.p\", \"rb\") as f:\n",
    "    test = pickle.load(f)\n",
    "    \n",
    "with open(\"C://Users//aksha//Downloads//archive//valid.p\", \"rb\") as f:\n",
    "    valid = pickle.load(f)\n",
    "    \n",
    "x_train, y_train = train['features'], train['labels']\n",
    "x_test, y_test = test['features'], test['labels']\n",
    "x_valid, y_valid = valid['features'], valid['labels']\n",
    "\n",
    "# Convert class vec`tors to binary class matrices\n",
    "num_classes = 43\n",
    "y_train = keras.utils.to_categorical(y_train, num_classes)\n",
    "y_test = keras.utils.to_categorical(y_test, num_classes)\n",
    "y_valid = keras.utils.to_categorical(y_valid, num_classes)"
   ]
  },
  {
   "cell_type": "code",
   "execution_count": 3,
   "id": "720e7a6b",
   "metadata": {},
   "outputs": [
    {
     "data": {
      "text/plain": [
       "((34799, 32, 32, 3), (34799, 43))"
      ]
     },
     "execution_count": 3,
     "metadata": {},
     "output_type": "execute_result"
    }
   ],
   "source": [
    "x_train.shape, y_train.shape"
   ]
  },
  {
   "cell_type": "code",
   "execution_count": 4,
   "id": "3b1dc26f",
   "metadata": {},
   "outputs": [],
   "source": [
    "def create_alexnet(input_shape, num_classes):\n",
    "    model = Sequential()\n",
    "    model.add(Conv2D(32, (3, 3), activation='relu', input_shape=input_shape))\n",
    "    model.add(MaxPooling2D((2, 2)))\n",
    "    model.add(Conv2D(64, (3, 3), activation='relu'))\n",
    "    model.add(MaxPooling2D((2, 2)))\n",
    "    model.add(Conv2D(128, (3, 3), activation='relu'))\n",
    "    model.add(Conv2D(256, (3, 3), activation='relu'))\n",
    "    model.add(MaxPooling2D((2, 2)))\n",
    "    model.add(Flatten())\n",
    "    model.add(Dense(4096, activation='relu'))\n",
    "    model.add(Dropout(0.5))\n",
    "    model.add(Dense(4096, activation='relu'))\n",
    "    model.add(Dropout(0.5))\n",
    "    model.add(Dense(512, activation='relu'))\n",
    "    model.add(Dense(num_classes, activation='softmax'))\n",
    "    model.compile(optimizer='adam', loss='categorical_crossentropy', metrics=['accuracy'])\n",
    "    return model"
   ]
  },
  {
   "cell_type": "code",
   "execution_count": 5,
   "id": "8fc20dfe",
   "metadata": {},
   "outputs": [
    {
     "name": "stdout",
     "output_type": "stream",
     "text": [
      "Model: \"sequential\"\n",
      "_________________________________________________________________\n",
      " Layer (type)                Output Shape              Param #   \n",
      "=================================================================\n",
      " conv2d (Conv2D)             (None, 30, 30, 32)        896       \n",
      "                                                                 \n",
      " max_pooling2d (MaxPooling2D  (None, 15, 15, 32)       0         \n",
      " )                                                               \n",
      "                                                                 \n",
      " conv2d_1 (Conv2D)           (None, 13, 13, 64)        18496     \n",
      "                                                                 \n",
      " max_pooling2d_1 (MaxPooling  (None, 6, 6, 64)         0         \n",
      " 2D)                                                             \n",
      "                                                                 \n",
      " conv2d_2 (Conv2D)           (None, 4, 4, 128)         73856     \n",
      "                                                                 \n",
      " conv2d_3 (Conv2D)           (None, 2, 2, 256)         295168    \n",
      "                                                                 \n",
      " max_pooling2d_2 (MaxPooling  (None, 1, 1, 256)        0         \n",
      " 2D)                                                             \n",
      "                                                                 \n",
      " flatten (Flatten)           (None, 256)               0         \n",
      "                                                                 \n",
      " dense (Dense)               (None, 4096)              1052672   \n",
      "                                                                 \n",
      " dropout (Dropout)           (None, 4096)              0         \n",
      "                                                                 \n",
      " dense_1 (Dense)             (None, 4096)              16781312  \n",
      "                                                                 \n",
      " dropout_1 (Dropout)         (None, 4096)              0         \n",
      "                                                                 \n",
      " dense_2 (Dense)             (None, 512)               2097664   \n",
      "                                                                 \n",
      " dense_3 (Dense)             (None, 43)                22059     \n",
      "                                                                 \n",
      "=================================================================\n",
      "Total params: 20,342,123\n",
      "Trainable params: 20,342,123\n",
      "Non-trainable params: 0\n",
      "_________________________________________________________________\n"
     ]
    }
   ],
   "source": [
    "alexnext = create_alexnet(x_train.shape[1:], 43)\n",
    "alexnext.summary()"
   ]
  },
  {
   "cell_type": "code",
   "execution_count": 6,
   "id": "0874e8e5",
   "metadata": {
    "scrolled": false
   },
   "outputs": [
    {
     "name": "stdout",
     "output_type": "stream",
     "text": [
      "Epoch 1/15\n",
      "1088/1088 [==============================] - 230s 210ms/step - loss: 1.1187 - accuracy: 0.6825 - val_loss: 0.7964 - val_accuracy: 0.7923\n",
      "Epoch 2/15\n",
      "1088/1088 [==============================] - 224s 206ms/step - loss: 0.3483 - accuracy: 0.9038 - val_loss: 0.3915 - val_accuracy: 0.9054\n",
      "Epoch 3/15\n",
      "1088/1088 [==============================] - 223s 205ms/step - loss: 0.2645 - accuracy: 0.9332 - val_loss: 0.6037 - val_accuracy: 0.8875\n",
      "Epoch 4/15\n",
      "1088/1088 [==============================] - 223s 205ms/step - loss: 0.2784 - accuracy: 0.9347 - val_loss: 0.4398 - val_accuracy: 0.9000\n",
      "Epoch 5/15\n",
      "1088/1088 [==============================] - 221s 203ms/step - loss: 0.2310 - accuracy: 0.9471 - val_loss: 0.7216 - val_accuracy: 0.8549\n",
      "Epoch 6/15\n",
      "1088/1088 [==============================] - 220s 203ms/step - loss: 0.2429 - accuracy: 0.9461 - val_loss: 0.4252 - val_accuracy: 0.9098\n",
      "Epoch 7/15\n",
      "1088/1088 [==============================] - 220s 203ms/step - loss: 0.2403 - accuracy: 0.9489 - val_loss: 0.6416 - val_accuracy: 0.9066\n",
      "Epoch 8/15\n",
      "1088/1088 [==============================] - 220s 203ms/step - loss: 0.2457 - accuracy: 0.9485 - val_loss: 0.4164 - val_accuracy: 0.9102\n",
      "Epoch 9/15\n",
      "1088/1088 [==============================] - 221s 203ms/step - loss: 0.2249 - accuracy: 0.9561 - val_loss: 0.6233 - val_accuracy: 0.8950\n",
      "Epoch 10/15\n",
      "1088/1088 [==============================] - 226s 208ms/step - loss: 0.2825 - accuracy: 0.9438 - val_loss: 0.3977 - val_accuracy: 0.9370\n",
      "Epoch 11/15\n",
      "1088/1088 [==============================] - 222s 204ms/step - loss: 0.2502 - accuracy: 0.9505 - val_loss: 0.7606 - val_accuracy: 0.9263\n",
      "Epoch 12/15\n",
      "1088/1088 [==============================] - 221s 203ms/step - loss: 0.2874 - accuracy: 0.9459 - val_loss: 0.4237 - val_accuracy: 0.9347\n",
      "Epoch 13/15\n",
      "1088/1088 [==============================] - 233s 214ms/step - loss: 0.2611 - accuracy: 0.9556 - val_loss: 0.5985 - val_accuracy: 0.9098\n",
      "Epoch 14/15\n",
      "1088/1088 [==============================] - 243s 223ms/step - loss: 0.3350 - accuracy: 0.9428 - val_loss: 0.7245 - val_accuracy: 0.9061\n",
      "Epoch 15/15\n",
      "1088/1088 [==============================] - 241s 222ms/step - loss: 0.2858 - accuracy: 0.9513 - val_loss: 0.7466 - val_accuracy: 0.9014\n"
     ]
    },
    {
     "data": {
      "image/png": "[encoded data removed]",
      "text/plain": [
       "<Figure size 640x480 with 1 Axes>"
      ]
     },
     "metadata": {},
     "output_type": "display_data"
    }
   ],
   "source": [
    "#Train the model\n",
    "alexnext = create_alexnet(x_train.shape[1:], num_classes)\n",
    "history = alexnext.fit(x_train, y_train, batch_size=32, epochs=15, validation_data=(x_valid, y_valid))\n",
    "\n",
    "# Plot the accuracy\n",
    "plt.plot(history.history['accuracy'])\n",
    "plt.plot(history.history['val_accuracy'])\n",
    "plt.title('Model accuracy')\n",
    "plt.ylabel('Accuracy')\n",
    "plt.xlabel('Epoch')\n",
    "plt.legend(['Train', 'Test'], loc='upper left')\n",
    "plt.show()"
   ]
  },
  {
   "cell_type": "code",
   "execution_count": 7,
   "id": "8a8a70ef",
   "metadata": {},
   "outputs": [
    {
     "name": "stdout",
     "output_type": "stream",
     "text": [
      "395/395 [==============================] - 9s 22ms/step - loss: 1.1273 - accuracy: 0.8797\n",
      "Test loss: 1.1272622346878052\n",
      "Test accuracy: 0.8797308206558228\n"
     ]
    }
   ],
   "source": [
    "scores = alexnext.evaluate(x_test, y_test, verbose=1)\n",
    "print('Test loss:', scores[0])\n",
    "print('Test accuracy:', scores[1])"
   ]
  },
  {
   "cell_type": "markdown",
   "id": "6c08984b",
   "metadata": {},
   "source": [
    "## Implementation using ResNet"
   ]
  },
  {
   "cell_type": "code",
   "execution_count": 8,
   "id": "2b14676f",
   "metadata": {},
   "outputs": [],
   "source": [
    "def residual_block(input_tensor, filters, strides=(1, 1)):\n",
    "    x = layers.Conv2D(filters, (3, 3), strides=strides, padding='same', use_bias=False)(input_tensor)\n",
    "    x = layers.BatchNormalization()(x)\n",
    "    x = layers.Activation('relu')(x)\n",
    "    x = layers.Conv2D(filters, (3, 3), padding='same', use_bias=False)(x)\n",
    "    x = layers.BatchNormalization()(x)\n",
    "    shortcut = layers.Conv2D(filters, (1, 1), strides=strides, use_bias=False)(input_tensor)\n",
    "    shortcut = layers.BatchNormalization()(shortcut)\n",
    "    x = layers.add([x, shortcut])\n",
    "    x = layers.Activation('relu')(x)\n",
    "    return x\n",
    "\n",
    "input_tensor = layers.Input(shape=(32,32,3))\n",
    "x = layers.Conv2D(64, (7, 7), strides=(2, 2), padding='same', use_bias=False)(input_tensor)\n",
    "x = layers.BatchNormalization()(x)\n",
    "x = layers.Activation('relu')(x)\n",
    "x = layers.MaxPooling2D((3, 3), strides=(2, 2), padding='same')(x)\n",
    "\n",
    "filters = [12, 32]\n",
    "for f in filters:\n",
    "    x = residual_block(x, f)\n",
    "\n",
    "x = layers.GlobalAveragePooling2D()(x)\n",
    "x = layers.Dense(num_classes, activation='softmax')(x)\n",
    "\n",
    "resnetModel = Model(input_tensor, x)\n",
    "resnetModel.compile(loss='categorical_crossentropy', optimizer='adam', metrics=['accuracy'])"
   ]
  },
  {
   "cell_type": "code",
   "execution_count": 9,
   "id": "6c410d90",
   "metadata": {
    "scrolled": false
   },
   "outputs": [
    {
     "name": "stdout",
     "output_type": "stream",
     "text": [
      "Epoch 1/15\n",
      "1088/1088 [==============================] - 39s 33ms/step - loss: 2.1935 - accuracy: 0.3863 - val_loss: 2.4967 - val_accuracy: 0.2998\n",
      "Epoch 2/15\n",
      "1088/1088 [==============================] - 38s 35ms/step - loss: 1.0412 - accuracy: 0.6893 - val_loss: 2.2469 - val_accuracy: 0.4166\n",
      "Epoch 3/15\n",
      "1088/1088 [==============================] - 35s 32ms/step - loss: 0.5515 - accuracy: 0.8422 - val_loss: 1.0277 - val_accuracy: 0.6667\n",
      "Epoch 4/15\n",
      "1088/1088 [==============================] - 40s 37ms/step - loss: 0.3449 - accuracy: 0.9023 - val_loss: 1.0321 - val_accuracy: 0.6948\n",
      "Epoch 5/15\n",
      "1088/1088 [==============================] - 45s 42ms/step - loss: 0.2384 - accuracy: 0.9327 - val_loss: 0.7833 - val_accuracy: 0.7857\n",
      "Epoch 6/15\n",
      "1088/1088 [==============================] - 45s 42ms/step - loss: 0.1794 - accuracy: 0.9509 - val_loss: 0.6502 - val_accuracy: 0.8023\n",
      "Epoch 7/15\n",
      "1088/1088 [==============================] - 42s 38ms/step - loss: 0.1407 - accuracy: 0.9611 - val_loss: 0.6705 - val_accuracy: 0.8238\n",
      "Epoch 8/15\n",
      "1088/1088 [==============================] - 39s 35ms/step - loss: 0.1142 - accuracy: 0.9686 - val_loss: 1.1598 - val_accuracy: 0.7345\n",
      "Epoch 9/15\n",
      "1088/1088 [==============================] - 40s 37ms/step - loss: 0.0960 - accuracy: 0.9726 - val_loss: 0.7018 - val_accuracy: 0.8190\n",
      "Epoch 10/15\n",
      "1088/1088 [==============================] - 45s 41ms/step - loss: 0.0815 - accuracy: 0.9774 - val_loss: 1.0031 - val_accuracy: 0.7683\n",
      "Epoch 11/15\n",
      "1088/1088 [==============================] - 45s 41ms/step - loss: 0.0722 - accuracy: 0.9794 - val_loss: 0.8805 - val_accuracy: 0.7821\n",
      "Epoch 12/15\n",
      "1088/1088 [==============================] - 45s 41ms/step - loss: 0.0664 - accuracy: 0.9812 - val_loss: 3.7554 - val_accuracy: 0.4680\n",
      "Epoch 13/15\n",
      "1088/1088 [==============================] - 41s 37ms/step - loss: 0.0572 - accuracy: 0.9837 - val_loss: 0.6576 - val_accuracy: 0.8281\n",
      "Epoch 14/15\n",
      "1088/1088 [==============================] - 41s 37ms/step - loss: 0.0561 - accuracy: 0.9843 - val_loss: 1.6136 - val_accuracy: 0.6669\n",
      "Epoch 15/15\n",
      "1088/1088 [==============================] - 45s 41ms/step - loss: 0.0481 - accuracy: 0.9869 - val_loss: 0.6561 - val_accuracy: 0.8247\n"
     ]
    },
    {
     "data": {
      "image/png": "[encoded data removed]",
      "text/plain": [
       "<Figure size 640x480 with 1 Axes>"
      ]
     },
     "metadata": {},
     "output_type": "display_data"
    },
    {
     "name": "stdout",
     "output_type": "stream",
     "text": [
      "395/395 [==============================] - 4s 11ms/step - loss: 0.6426 - accuracy: 0.8411\n",
      "Test loss: 0.6425864100456238\n",
      "Test accuracy: 0.8410926461219788\n"
     ]
    }
   ],
   "source": [
    "history = resnetModel.fit(x_train, y_train, batch_size=32, epochs=15, validation_data=(x_valid, y_valid))\n",
    "\n",
    "# Plot the accuracy\n",
    "plt.plot(history.history['accuracy'])\n",
    "plt.plot(history.history['val_accuracy'])\n",
    "plt.title('Model accuracy')\n",
    "plt.ylabel('Accuracy')\n",
    "plt.xlabel('Epoch')\n",
    "plt.legend(['Train', 'Test'], loc='upper left')\n",
    "plt.show()\n",
    "\n",
    "# Evaluation\n",
    "scores = resnetModel.evaluate(x_test, y_test, verbose=1)\n",
    "print('Test loss:', scores[0])\n",
    "print('Test accuracy:', scores[1])"
   ]
  },
  {
   "cell_type": "markdown",
   "id": "2bbd76d8",
   "metadata": {},
   "source": [
    "## Modified AlexNext"
   ]
  },
  {
   "cell_type": "code",
   "execution_count": 10,
   "id": "e85beb3a",
   "metadata": {},
   "outputs": [],
   "source": [
    "def modifiedalexnet(input_shape, num_classes):\n",
    "    model = Sequential()\n",
    "    model.add(Conv2D(32, (3, 3), activation='relu', input_shape=input_shape))\n",
    "    model.add(MaxPooling2D((2, 2)))\n",
    "    model.add(Conv2D(64, (3, 3), activation='relu'))\n",
    "    model.add(MaxPooling2D((2, 2)))\n",
    "    model.add(Conv2D(512, (3, 3), activation='relu'))\n",
    "    model.add(Conv2D(512, (3, 3), activation='relu'))\n",
    "    model.add(MaxPooling2D((2, 2)))\n",
    "    model.add(Flatten())\n",
    "    model.add(Dense(4096, activation='relu'))\n",
    "    model.add(Dropout(0.5))\n",
    "    model.add(Dense(4096, activation='relu'))\n",
    "    model.add(Dropout(0.5))\n",
    "    model.add(Dense(512, activation='relu'))\n",
    "    model.add(Dense(num_classes, activation='softmax'))\n",
    "\n",
    "    model.compile(optimizer='adam', loss='categorical_crossentropy', metrics=['accuracy'])\n",
    "    return model"
   ]
  },
  {
   "cell_type": "code",
   "execution_count": 11,
   "id": "86b960ce",
   "metadata": {},
   "outputs": [
    {
     "name": "stdout",
     "output_type": "stream",
     "text": [
      "Model: \"sequential_2\"\n",
      "_________________________________________________________________\n",
      " Layer (type)                Output Shape              Param #   \n",
      "=================================================================\n",
      " conv2d_15 (Conv2D)          (None, 30, 30, 32)        896       \n",
      "                                                                 \n",
      " max_pooling2d_7 (MaxPooling  (None, 15, 15, 32)       0         \n",
      " 2D)                                                             \n",
      "                                                                 \n",
      " conv2d_16 (Conv2D)          (None, 13, 13, 64)        18496     \n",
      "                                                                 \n",
      " max_pooling2d_8 (MaxPooling  (None, 6, 6, 64)         0         \n",
      " 2D)                                                             \n",
      "                                                                 \n",
      " conv2d_17 (Conv2D)          (None, 4, 4, 512)         295424    \n",
      "                                                                 \n",
      " conv2d_18 (Conv2D)          (None, 2, 2, 512)         2359808   \n",
      "                                                                 \n",
      " max_pooling2d_9 (MaxPooling  (None, 1, 1, 512)        0         \n",
      " 2D)                                                             \n",
      "                                                                 \n",
      " flatten_2 (Flatten)         (None, 512)               0         \n",
      "                                                                 \n",
      " dense_9 (Dense)             (None, 4096)              2101248   \n",
      "                                                                 \n",
      " dropout_4 (Dropout)         (None, 4096)              0         \n",
      "                                                                 \n",
      " dense_10 (Dense)            (None, 4096)              16781312  \n",
      "                                                                 \n",
      " dropout_5 (Dropout)         (None, 4096)              0         \n",
      "                                                                 \n",
      " dense_11 (Dense)            (None, 512)               2097664   \n",
      "                                                                 \n",
      " dense_12 (Dense)            (None, 43)                22059     \n",
      "                                                                 \n",
      "=================================================================\n",
      "Total params: 23,676,907\n",
      "Trainable params: 23,676,907\n",
      "Non-trainable params: 0\n",
      "_________________________________________________________________\n"
     ]
    }
   ],
   "source": [
    "m_alex_net = modifiedalexnet(x_train.shape[1:], 43)\n",
    "m_alex_net.summary()"
   ]
  },
  {
   "cell_type": "code",
   "execution_count": 12,
   "id": "3bfda141",
   "metadata": {
    "scrolled": true
   },
   "outputs": [
    {
     "name": "stdout",
     "output_type": "stream",
     "text": [
      "Epoch 1/15\n",
      "1088/1088 [==============================] - 375s 343ms/step - loss: 1.0581 - accuracy: 0.7052 - val_loss: 0.5219 - val_accuracy: 0.8646\n",
      "Epoch 2/15\n",
      "1088/1088 [==============================] - 409s 376ms/step - loss: 0.3179 - accuracy: 0.9159 - val_loss: 0.3971 - val_accuracy: 0.9034\n",
      "Epoch 3/15\n",
      "1088/1088 [==============================] - 374s 344ms/step - loss: 0.2748 - accuracy: 0.9350 - val_loss: 0.7979 - val_accuracy: 0.8429\n",
      "Epoch 4/15\n",
      "1088/1088 [==============================] - 380s 349ms/step - loss: 0.2428 - accuracy: 0.9466 - val_loss: 0.4063 - val_accuracy: 0.8993\n",
      "Epoch 5/15\n",
      "1088/1088 [==============================] - 380s 349ms/step - loss: 0.2356 - accuracy: 0.9476 - val_loss: 0.2830 - val_accuracy: 0.9417\n",
      "Epoch 6/15\n",
      "1088/1088 [==============================] - 379s 349ms/step - loss: 0.2403 - accuracy: 0.9509 - val_loss: 0.4109 - val_accuracy: 0.9163\n",
      "Epoch 7/15\n",
      "1088/1088 [==============================] - 374s 344ms/step - loss: 0.2338 - accuracy: 0.9557 - val_loss: 0.3259 - val_accuracy: 0.9351\n",
      "Epoch 8/15\n",
      "1088/1088 [==============================] - 3069s 3s/step - loss: 0.2345 - accuracy: 0.9556 - val_loss: 0.3917 - val_accuracy: 0.9227\n",
      "Epoch 9/15\n",
      "1088/1088 [==============================] - 366s 337ms/step - loss: 0.3560 - accuracy: 0.9358 - val_loss: 0.5288 - val_accuracy: 0.8998\n",
      "Epoch 10/15\n",
      "1088/1088 [==============================] - 365s 336ms/step - loss: 0.3469 - accuracy: 0.9428 - val_loss: 1.0398 - val_accuracy: 0.8789\n",
      "Epoch 11/15\n",
      "1088/1088 [==============================] - 366s 336ms/step - loss: 0.2206 - accuracy: 0.9615 - val_loss: 0.5903 - val_accuracy: 0.9277\n",
      "Epoch 12/15\n",
      "1088/1088 [==============================] - 374s 344ms/step - loss: 0.2432 - accuracy: 0.9597 - val_loss: 0.6855 - val_accuracy: 0.9075\n",
      "Epoch 13/15\n",
      "1088/1088 [==============================] - 372s 342ms/step - loss: 0.8999 - accuracy: 0.7979 - val_loss: 3.6226 - val_accuracy: 0.0476\n",
      "Epoch 14/15\n",
      "1088/1088 [==============================] - 378s 348ms/step - loss: 3.5173 - accuracy: 0.0520 - val_loss: 3.5512 - val_accuracy: 0.0544\n",
      "Epoch 15/15\n",
      "1088/1088 [==============================] - 378s 347ms/step - loss: 3.4842 - accuracy: 0.0564 - val_loss: 3.5508 - val_accuracy: 0.0544\n"
     ]
    },
    {
     "data": {
      "image/png": "[encoded data removed]",
      "text/plain": [
       "<Figure size 640x480 with 1 Axes>"
      ]
     },
     "metadata": {},
     "output_type": "display_data"
    },
    {
     "name": "stdout",
     "output_type": "stream",
     "text": [
      "395/395 [==============================] - 11s 28ms/step - loss: 3.4663 - accuracy: 0.0570\n",
      "Test loss: 3.466308832168579\n",
      "Test accuracy: 0.05700712651014328\n"
     ]
    }
   ],
   "source": [
    "#Train the model\n",
    "m_alex_net = modifiedalexnet(x_train.shape[1:], num_classes)\n",
    "history = m_alex_net.fit(x_train, y_train, batch_size=32, epochs=15, validation_data=(x_valid, y_valid))\n",
    "\n",
    "# Plot the accuracy\n",
    "plt.plot(history.history['accuracy'])\n",
    "plt.plot(history.history['val_accuracy'])\n",
    "plt.title('Model accuracy')\n",
    "plt.ylabel('Accuracy')\n",
    "plt.xlabel('Epoch')\n",
    "plt.legend(['Train', 'Test'], loc='upper left')\n",
    "plt.show()\n",
    "\n",
    "scores = m_alex_net.evaluate(x_test, y_test, verbose=1)\n",
    "print('Test loss:', scores[0])\n",
    "print('Test accuracy:', scores[1])"
   ]
  },
  {
   "cell_type": "markdown",
   "id": "c6b2e39f",
   "metadata": {},
   "source": [
    "## Arch 2"
   ]
  },
  {
   "cell_type": "code",
   "execution_count": 13,
   "id": "6e9e35ac",
   "metadata": {},
   "outputs": [],
   "source": [
    "def create_arch2(input_shape, num_classes):\n",
    "    model = Sequential()\n",
    "    model.add(Conv2D(32, (3, 3), activation='relu', input_shape=input_shape))\n",
    "    model.add(MaxPooling2D((4, 4)))\n",
    "    model.add(Conv2D(64, (3, 3), activation='relu'))\n",
    "    model.add(MaxPooling2D((4, 4)))\n",
    "    model.add(Flatten())\n",
    "    model.add(Dense(4096, activation='relu'))\n",
    "    model.add(Dropout(0.5))\n",
    "    model.add(Dense(4096, activation='relu'))\n",
    "    model.add(Dropout(0.5))\n",
    "    model.add(Dense(512, activation='relu'))\n",
    "    model.add(Dense(num_classes, activation='softmax'))\n",
    "\n",
    "    model.compile(optimizer='adam', loss='categorical_crossentropy', metrics=['accuracy'])\n",
    "    return model"
   ]
  },
  {
   "cell_type": "code",
   "execution_count": 14,
   "id": "23186669",
   "metadata": {},
   "outputs": [
    {
     "name": "stdout",
     "output_type": "stream",
     "text": [
      "Model: \"sequential_4\"\n",
      "_________________________________________________________________\n",
      " Layer (type)                Output Shape              Param #   \n",
      "=================================================================\n",
      " conv2d_23 (Conv2D)          (None, 30, 30, 32)        896       \n",
      "                                                                 \n",
      " max_pooling2d_13 (MaxPoolin  (None, 7, 7, 32)         0         \n",
      " g2D)                                                            \n",
      "                                                                 \n",
      " conv2d_24 (Conv2D)          (None, 5, 5, 64)          18496     \n",
      "                                                                 \n",
      " max_pooling2d_14 (MaxPoolin  (None, 1, 1, 64)         0         \n",
      " g2D)                                                            \n",
      "                                                                 \n",
      " flatten_4 (Flatten)         (None, 64)                0         \n",
      "                                                                 \n",
      " dense_17 (Dense)            (None, 4096)              266240    \n",
      "                                                                 \n",
      " dropout_8 (Dropout)         (None, 4096)              0         \n",
      "                                                                 \n",
      " dense_18 (Dense)            (None, 4096)              16781312  \n",
      "                                                                 \n",
      " dropout_9 (Dropout)         (None, 4096)              0         \n",
      "                                                                 \n",
      " dense_19 (Dense)            (None, 512)               2097664   \n",
      "                                                                 \n",
      " dense_20 (Dense)            (None, 43)                22059     \n",
      "                                                                 \n",
      "=================================================================\n",
      "Total params: 19,186,667\n",
      "Trainable params: 19,186,667\n",
      "Non-trainable params: 0\n",
      "_________________________________________________________________\n"
     ]
    }
   ],
   "source": [
    "arch2_model = create_arch2(x_train.shape[1:], 43)\n",
    "arch2_model.summary()"
   ]
  },
  {
   "cell_type": "code",
   "execution_count": 15,
   "id": "34f9604d",
   "metadata": {
    "scrolled": false
   },
   "outputs": [
    {
     "name": "stdout",
     "output_type": "stream",
     "text": [
      "Epoch 1/15\n",
      "1088/1088 [==============================] - 226s 206ms/step - loss: 2.8345 - accuracy: 0.2234 - val_loss: 2.0942 - val_accuracy: 0.3526\n",
      "Epoch 2/15\n",
      "1088/1088 [==============================] - 223s 205ms/step - loss: 1.4442 - accuracy: 0.5396 - val_loss: 1.3727 - val_accuracy: 0.6061\n",
      "Epoch 3/15\n",
      "1088/1088 [==============================] - 224s 205ms/step - loss: 0.9558 - accuracy: 0.6823 - val_loss: 1.0981 - val_accuracy: 0.6769\n",
      "Epoch 4/15\n",
      "1088/1088 [==============================] - 227s 209ms/step - loss: 0.8029 - accuracy: 0.7398 - val_loss: 1.2023 - val_accuracy: 0.6789\n",
      "Epoch 5/15\n",
      "1088/1088 [==============================] - 238s 219ms/step - loss: 0.7253 - accuracy: 0.7682 - val_loss: 1.0916 - val_accuracy: 0.7147\n",
      "Epoch 6/15\n",
      "1088/1088 [==============================] - 246s 226ms/step - loss: 0.6364 - accuracy: 0.8005 - val_loss: 0.9005 - val_accuracy: 0.7580\n",
      "Epoch 7/15\n",
      "1088/1088 [==============================] - 247s 227ms/step - loss: 0.6224 - accuracy: 0.8132 - val_loss: 1.1813 - val_accuracy: 0.6943\n",
      "Epoch 8/15\n",
      "1088/1088 [==============================] - 249s 228ms/step - loss: 0.6093 - accuracy: 0.8256 - val_loss: 1.0178 - val_accuracy: 0.7610\n",
      "Epoch 9/15\n",
      "1088/1088 [==============================] - 207s 191ms/step - loss: 0.5549 - accuracy: 0.8427 - val_loss: 0.9724 - val_accuracy: 0.7989\n",
      "Epoch 10/15\n",
      "1088/1088 [==============================] - 203s 186ms/step - loss: 0.5276 - accuracy: 0.8553 - val_loss: 0.9964 - val_accuracy: 0.7481\n",
      "Epoch 11/15\n",
      "1088/1088 [==============================] - 204s 187ms/step - loss: 0.5214 - accuracy: 0.8611 - val_loss: 0.8821 - val_accuracy: 0.7914\n",
      "Epoch 12/15\n",
      "1088/1088 [==============================] - 207s 190ms/step - loss: 0.4784 - accuracy: 0.8711 - val_loss: 0.8663 - val_accuracy: 0.7957\n",
      "Epoch 13/15\n",
      "1088/1088 [==============================] - 208s 191ms/step - loss: 0.5216 - accuracy: 0.8658 - val_loss: 0.7386 - val_accuracy: 0.8061\n",
      "Epoch 14/15\n",
      "1088/1088 [==============================] - 206s 190ms/step - loss: 0.4903 - accuracy: 0.8757 - val_loss: 0.8783 - val_accuracy: 0.8057\n",
      "Epoch 15/15\n",
      "1088/1088 [==============================] - 205s 188ms/step - loss: 0.4474 - accuracy: 0.8861 - val_loss: 0.9158 - val_accuracy: 0.8007\n"
     ]
    },
    {
     "data": {
      "image/png": "[encoded data removed]",
      "text/plain": [
       "<Figure size 640x480 with 1 Axes>"
      ]
     },
     "metadata": {},
     "output_type": "display_data"
    },
    {
     "name": "stdout",
     "output_type": "stream",
     "text": [
      "395/395 [==============================] - 5s 14ms/step - loss: 0.9264 - accuracy: 0.7865\n",
      "Test loss: 0.9264220595359802\n",
      "Test accuracy: 0.786460816860199\n"
     ]
    }
   ],
   "source": [
    "# Convert class vectors to binary class matrices\n",
    "num_classes = 43\n",
    "\n",
    "#Train the model\n",
    "arch2_model = create_arch2(x_train.shape[1:], num_classes)\n",
    "history = arch2_model.fit(x_train, y_train, batch_size=32, epochs=15, validation_data=(x_valid, y_valid))\n",
    "\n",
    "# Plot the accuracy\n",
    "plt.plot(history.history['accuracy'])\n",
    "plt.plot(history.history['val_accuracy'])\n",
    "plt.title('Model accuracy')\n",
    "plt.ylabel('Accuracy')\n",
    "plt.xlabel('Epoch')\n",
    "plt.legend(['Train', 'Test'], loc='upper left')\n",
    "plt.show()\n",
    "\n",
    "# Evaluation\n",
    "scores = arch2_model.evaluate(x_test, y_test, verbose=1)\n",
    "print('Test loss:', scores[0])\n",
    "print('Test accuracy:', scores[1])"
   ]
  },
  {
   "cell_type": "markdown",
   "id": "08e6b2d6",
   "metadata": {},
   "source": [
    "## Arch 3"
   ]
  },
  {
   "cell_type": "code",
   "execution_count": 16,
   "id": "266754c7",
   "metadata": {},
   "outputs": [],
   "source": [
    "def create_arch3(input_shape, num_classes):\n",
    "    model = Sequential()\n",
    "    model.add(Conv2D(32, (3, 3), activation='relu', input_shape=input_shape))\n",
    "    model.add(AveragePooling2D((3, 3)))\n",
    "    model.add(Conv2D(512, (3, 3), activation='relu'))\n",
    "    model.add(AveragePooling2D((2, 2)))\n",
    "    model.add(Conv2D(512, (3, 3), activation='relu'))\n",
    "    model.add(AveragePooling2D((2, 2)))\n",
    "    model.add(Flatten())\n",
    "    model.add(Dense(4096, activation='relu'))\n",
    "    model.add(Dropout(0.5))\n",
    "    model.add(Dense(512, activation='relu'))\n",
    "    model.add(Dense(num_classes, activation='softmax'))\n",
    "\n",
    "    model.compile(optimizer='adam', loss='categorical_crossentropy', metrics=['accuracy'])\n",
    "    return model"
   ]
  },
  {
   "cell_type": "code",
   "execution_count": 17,
   "id": "636e6e00",
   "metadata": {},
   "outputs": [
    {
     "name": "stdout",
     "output_type": "stream",
     "text": [
      "Model: \"sequential_6\"\n",
      "_________________________________________________________________\n",
      " Layer (type)                Output Shape              Param #   \n",
      "=================================================================\n",
      " conv2d_27 (Conv2D)          (None, 30, 30, 32)        896       \n",
      "                                                                 \n",
      " average_pooling2d (AverageP  (None, 10, 10, 32)       0         \n",
      " ooling2D)                                                       \n",
      "                                                                 \n",
      " conv2d_28 (Conv2D)          (None, 8, 8, 512)         147968    \n",
      "                                                                 \n",
      " average_pooling2d_1 (Averag  (None, 4, 4, 512)        0         \n",
      " ePooling2D)                                                     \n",
      "                                                                 \n",
      " conv2d_29 (Conv2D)          (None, 2, 2, 512)         2359808   \n",
      "                                                                 \n",
      " average_pooling2d_2 (Averag  (None, 1, 1, 512)        0         \n",
      " ePooling2D)                                                     \n",
      "                                                                 \n",
      " flatten_6 (Flatten)         (None, 512)               0         \n",
      "                                                                 \n",
      " dense_25 (Dense)            (None, 4096)              2101248   \n",
      "                                                                 \n",
      " dropout_12 (Dropout)        (None, 4096)              0         \n",
      "                                                                 \n",
      " dense_26 (Dense)            (None, 512)               2097664   \n",
      "                                                                 \n",
      " dense_27 (Dense)            (None, 43)                22059     \n",
      "                                                                 \n",
      "=================================================================\n",
      "Total params: 6,729,643\n",
      "Trainable params: 6,729,643\n",
      "Non-trainable params: 0\n",
      "_________________________________________________________________\n"
     ]
    }
   ],
   "source": [
    "arch3_model = create_arch3(x_train.shape[1:], 43)\n",
    "arch3_model.summary()"
   ]
  },
  {
   "cell_type": "code",
   "execution_count": 18,
   "id": "3e279de8",
   "metadata": {
    "scrolled": false
   },
   "outputs": [
    {
     "name": "stdout",
     "output_type": "stream",
     "text": [
      "Epoch 1/15\n",
      "1088/1088 [==============================] - 146s 132ms/step - loss: 1.2675 - accuracy: 0.6299 - val_loss: 0.6829 - val_accuracy: 0.8066\n",
      "Epoch 2/15\n",
      "1088/1088 [==============================] - 144s 133ms/step - loss: 0.1965 - accuracy: 0.9411 - val_loss: 0.3734 - val_accuracy: 0.9007\n",
      "Epoch 3/15\n",
      "1088/1088 [==============================] - 151s 138ms/step - loss: 0.1344 - accuracy: 0.9629 - val_loss: 0.4171 - val_accuracy: 0.8964\n",
      "Epoch 4/15\n",
      "1088/1088 [==============================] - 148s 136ms/step - loss: 0.1082 - accuracy: 0.9699 - val_loss: 0.2970 - val_accuracy: 0.9290\n",
      "Epoch 5/15\n",
      "1088/1088 [==============================] - 146s 134ms/step - loss: 0.0823 - accuracy: 0.9765 - val_loss: 0.5131 - val_accuracy: 0.9315\n",
      "Epoch 6/15\n",
      "1088/1088 [==============================] - 144s 133ms/step - loss: 0.0827 - accuracy: 0.9777 - val_loss: 0.4445 - val_accuracy: 0.9274\n",
      "Epoch 7/15\n",
      "1088/1088 [==============================] - 141s 130ms/step - loss: 0.0775 - accuracy: 0.9804 - val_loss: 0.3612 - val_accuracy: 0.9147\n",
      "Epoch 8/15\n",
      "1088/1088 [==============================] - 141s 129ms/step - loss: 0.0520 - accuracy: 0.9868 - val_loss: 0.4367 - val_accuracy: 0.9283\n",
      "Epoch 9/15\n",
      "1088/1088 [==============================] - 143s 131ms/step - loss: 0.0977 - accuracy: 0.9766 - val_loss: 0.3435 - val_accuracy: 0.9406\n",
      "Epoch 10/15\n",
      "1088/1088 [==============================] - 156s 144ms/step - loss: 0.0591 - accuracy: 0.9868 - val_loss: 0.3927 - val_accuracy: 0.9322\n",
      "Epoch 11/15\n",
      "1088/1088 [==============================] - 194s 178ms/step - loss: 0.0585 - accuracy: 0.9867 - val_loss: 0.4812 - val_accuracy: 0.9061\n",
      "Epoch 12/15\n",
      "1088/1088 [==============================] - 190s 174ms/step - loss: 0.0649 - accuracy: 0.9848 - val_loss: 0.3676 - val_accuracy: 0.9249\n",
      "Epoch 13/15\n",
      "1088/1088 [==============================] - 196s 180ms/step - loss: 0.0545 - accuracy: 0.9874 - val_loss: 0.7053 - val_accuracy: 0.9302\n",
      "Epoch 14/15\n",
      "1088/1088 [==============================] - 195s 180ms/step - loss: 0.0781 - accuracy: 0.9846 - val_loss: 0.3372 - val_accuracy: 0.9367\n",
      "Epoch 15/15\n",
      "1088/1088 [==============================] - 196s 180ms/step - loss: 0.0591 - accuracy: 0.9882 - val_loss: 0.5084 - val_accuracy: 0.9372\n"
     ]
    },
    {
     "data": {
      "image/png": "[encoded data removed]",
      "text/plain": [
       "<Figure size 640x480 with 1 Axes>"
      ]
     },
     "metadata": {},
     "output_type": "display_data"
    },
    {
     "name": "stdout",
     "output_type": "stream",
     "text": [
      "395/395 [==============================] - 8s 21ms/step - loss: 0.4924 - accuracy: 0.9284\n",
      "Test loss: 0.4924391806125641\n",
      "Test accuracy: 0.9284243583679199\n"
     ]
    }
   ],
   "source": [
    "# Convert class vectors to binary class matrices\n",
    "num_classes = 43\n",
    "\n",
    "#Train the model\n",
    "arch3_model = create_arch3(x_train.shape[1:], num_classes)\n",
    "history = arch3_model.fit(x_train, y_train, batch_size=32, epochs=15, validation_data=(x_valid, y_valid))\n",
    "\n",
    "# Plot the accuracy\n",
    "plt.plot(history.history['accuracy'])\n",
    "plt.plot(history.history['val_accuracy'])\n",
    "plt.title('Model accuracy')\n",
    "plt.ylabel('Accuracy')\n",
    "plt.xlabel('Epoch')\n",
    "plt.legend(['Train', 'Test'], loc='upper left')\n",
    "plt.show()\n",
    "\n",
    "# Evaluation\n",
    "scores = arch3_model.evaluate(x_test, y_test, verbose=1)\n",
    "print('Test loss:', scores[0])\n",
    "print('Test accuracy:', scores[1])"
   ]
  },
  {
   "cell_type": "code",
   "execution_count": 36,
   "id": "dd4d8a53",
   "metadata": {},
   "outputs": [],
   "source": [
    "def test_all_models(test_data, label_data):\n",
    "    # Testing for alex net\n",
    "    print(\"############### Alex net ###################\")\n",
    "    scores = alexnext.evaluate(test_data, label_data, verbose=1)\n",
    "    print('Test loss:', scores[0])\n",
    "    print('Test accuracy:', scores[1])\n",
    "    \n",
    "    # Testing for resnet\n",
    "    print(\"############### Res net ###################\")\n",
    "    scores = resnetModel.evaluate(test_data, label_data, verbose=1)\n",
    "    print('Test loss:', scores[0])\n",
    "    print('Test accuracy:', scores[1])\n",
    "    \n",
    "    # Testing for modified alex net\n",
    "    print(\"############### Modified Alex net ###################\")\n",
    "    scores = m_alex_net.evaluate(test_data, label_data, verbose=1)\n",
    "    print('Test loss:', scores[0])\n",
    "    print('Test accuracy:', scores[1])\n",
    "    \n",
    "    # Arch 2\n",
    "    print(\"############### Arch 2 ###################\")\n",
    "    scores = arch2_model.evaluate(test_data, label_data, verbose=1)\n",
    "    print('Test loss:', scores[0])\n",
    "    print('Test accuracy:', scores[1])\n",
    "    \n",
    "    # Arch 3\n",
    "    print(\"############### Arch 3 net ###################\")\n",
    "    scores = arch3_model.evaluate(test_data, label_data, verbose=1)\n",
    "    print('Test loss:', scores[0])\n",
    "    print('Test accuracy:', scores[1])"
   ]
  },
  {
   "cell_type": "markdown",
   "id": "6dfcc1e3",
   "metadata": {},
   "source": [
    "## Dataset 2"
   ]
  },
  {
   "cell_type": "code",
   "execution_count": 33,
   "id": "ed493704",
   "metadata": {},
   "outputs": [],
   "source": [
    "import os\n",
    "import numpy as np\n",
    "from PIL import Image\n",
    "\n",
    "# Define the path to the images directory\n",
    "path = 'C:\\\\Users\\\\aksha\\\\Downloads\\\\Dataset\\\\Dataset 2\\\\Train'\n",
    "\n",
    "# Create a dictionary to store the images and their labels\n",
    "images = []\n",
    "labels = []\n",
    "\n",
    "# Iterate through all the subdirectories in the images directory\n",
    "for folder_name in os.listdir(path):\n",
    "    folder_path = os.path.join(path, folder_name)\n",
    "    if os.path.isdir(folder_path):\n",
    "        # Iterate through all the images in the subdirectory\n",
    "        for image_name in os.listdir(folder_path):\n",
    "            image_path = os.path.join(folder_path, image_name)\n",
    "            # Load the image using PIL\n",
    "            image = Image.open(image_path)\n",
    "            # Resize the image to a fixed size\n",
    "            image = image.resize((32, 32))\n",
    "            # Convert the image to a numpy array\n",
    "            image = np.array(image)\n",
    "            # Add the image and its label to the list\n",
    "            images.append(image)\n",
    "            labels.append(folder_name)\n",
    "\n",
    "# Convert the lists to numpy arrays\n",
    "images = np.array(images)\n",
    "labels = np.array(labels)\n",
    "\n",
    "# Convert class vec`tors to binary class matrices\n",
    "num_classes = 43\n",
    "labels = keras.utils.to_categorical(labels, num_classes)"
   ]
  },
  {
   "cell_type": "code",
   "execution_count": 34,
   "id": "5d05a42e",
   "metadata": {},
   "outputs": [
    {
     "data": {
      "text/plain": [
       "(39209, (39209, 43))"
      ]
     },
     "execution_count": 34,
     "metadata": {},
     "output_type": "execute_result"
    }
   ],
   "source": [
    "len(images), labels.shape"
   ]
  },
  {
   "cell_type": "code",
   "execution_count": 37,
   "id": "8943141e",
   "metadata": {},
   "outputs": [
    {
     "name": "stdout",
     "output_type": "stream",
     "text": [
      "############### Alex net ###################\n",
      "1226/1226 [==============================] - 29s 23ms/step - loss: 0.2805 - accuracy: 0.9511\n",
      "Test loss: 0.280472993850708\n",
      "Test accuracy: 0.951133668422699\n",
      "############### Res net ###################\n",
      "1226/1226 [==============================] - 310s 253ms/step - loss: 0.2618 - accuracy: 0.9203\n",
      "Test loss: 0.2618231475353241\n",
      "Test accuracy: 0.920324444770813\n",
      "############### Modified Alex net ###################\n",
      "1226/1226 [==============================] - 36s 29ms/step - loss: 3.4871 - accuracy: 0.0566\n",
      "Test loss: 3.48710560798645\n",
      "Test accuracy: 0.05661965534090996\n",
      "############### Arch 2 ###################\n",
      "1226/1226 [==============================] - 24s 19ms/step - loss: 0.4682 - accuracy: 0.8788\n",
      "Test loss: 0.46820399165153503\n",
      "Test accuracy: 0.8788033127784729\n",
      "############### Arch 3 net ###################\n",
      "1226/1226 [==============================] - 23s 18ms/step - loss: 0.0641 - accuracy: 0.9908\n",
      "Test loss: 0.06414669007062912\n",
      "Test accuracy: 0.9907674193382263\n"
     ]
    }
   ],
   "source": [
    "test_all_models(images, labels)"
   ]
  },
  {
   "cell_type": "markdown",
   "id": "e35cd47f",
   "metadata": {},
   "source": [
    "## Dataset 3"
   ]
  },
  {
   "cell_type": "code",
   "execution_count": 38,
   "id": "2ff8e4c1",
   "metadata": {},
   "outputs": [],
   "source": [
    "import os\n",
    "import numpy as np\n",
    "from PIL import Image\n",
    "\n",
    "# Define the path to the images directory\n",
    "path = 'C:\\\\Users\\\\aksha\\\\Downloads\\\\Dataset\\\\Dataset_4\\\\Train'\n",
    "\n",
    "# Create a dictionary to store the images and their labels\n",
    "images = []\n",
    "labels = []\n",
    "\n",
    "# Iterate through all the subdirectories in the images directory\n",
    "for folder_name in os.listdir(path):\n",
    "    folder_path = os.path.join(path, folder_name)\n",
    "    if os.path.isdir(folder_path):\n",
    "        # Iterate through all the images in the subdirectory\n",
    "        for image_name in os.listdir(folder_path):\n",
    "            image_path = os.path.join(folder_path, image_name)\n",
    "            # Load the image using PIL\n",
    "            image = Image.open(image_path)\n",
    "            # Resize the image to a fixed size\n",
    "            image = image.resize((32, 32))\n",
    "            # Convert the image to a numpy array\n",
    "            image = np.array(image)\n",
    "            # Add the image and its label to the list\n",
    "            images.append(image)\n",
    "            labels.append(folder_name)\n",
    "\n",
    "# Convert the lists to numpy arrays\n",
    "images = np.array(images)\n",
    "labels = np.array(labels)\n",
    "\n",
    "# Convert class vec`tors to binary class matrices\n",
    "num_classes = 43\n",
    "labels = keras.utils.to_categorical(labels, num_classes)\n"
   ]
  },
  {
   "cell_type": "code",
   "execution_count": 40,
   "id": "e5a0c690",
   "metadata": {},
   "outputs": [
    {
     "name": "stdout",
     "output_type": "stream",
     "text": [
      "############### Alex net ###################\n",
      "1103/1103 [==============================] - 26s 23ms/step - loss: 0.2832 - accuracy: 0.9511\n",
      "Test loss: 0.28315165638923645\n",
      "Test accuracy: 0.9511448740959167\n",
      "############### Res net ###################\n",
      "1103/1103 [==============================] - 12s 11ms/step - loss: 0.2611 - accuracy: 0.9208\n",
      "Test loss: 0.26111143827438354\n",
      "Test accuracy: 0.9207946062088013\n",
      "############### Modified Alex net ###################\n",
      "1103/1103 [==============================] - 32s 29ms/step - loss: 3.4871 - accuracy: 0.0566\n",
      "Test loss: 3.4871068000793457\n",
      "Test accuracy: 0.05661981552839279\n",
      "############### Arch 2 ###################\n",
      "1103/1103 [==============================] - 21s 19ms/step - loss: 0.4680 - accuracy: 0.8790\n",
      "Test loss: 0.46797943115234375\n",
      "Test accuracy: 0.8789957165718079\n",
      "############### Arch 3 net ###################\n",
      "1103/1103 [==============================] - 21s 19ms/step - loss: 0.0655 - accuracy: 0.9906\n",
      "Test loss: 0.06550285965204239\n",
      "Test accuracy: 0.9906483888626099\n"
     ]
    }
   ],
   "source": [
    "test_all_models(images, labels)"
   ]
  },
  {
   "cell_type": "code",
   "execution_count": 39,
   "id": "d3941c26",
   "metadata": {},
   "outputs": [
    {
     "data": {
      "text/plain": [
       "(35288, 32, 32, 3)"
      ]
     },
     "execution_count": 39,
     "metadata": {},
     "output_type": "execute_result"
    }
   ],
   "source": [
    "images.shape"
   ]
  },
  {
   "cell_type": "markdown",
   "id": "6d108daa",
   "metadata": {},
   "source": [
    "## Dataset 4"
   ]
  },
  {
   "cell_type": "code",
   "execution_count": 41,
   "id": "ab9f506f",
   "metadata": {},
   "outputs": [],
   "source": [
    "import os\n",
    "import numpy as np\n",
    "from PIL import Image\n",
    "\n",
    "# Define the path to the images directory\n",
    "path = 'C:\\\\Users\\\\aksha\\\\Downloads\\\\Dataset\\\\Dataset_3\\\\Train'\n",
    "\n",
    "# Create a dictionary to store the images and their labels\n",
    "images = []\n",
    "labels = []\n",
    "\n",
    "# Iterate through all the subdirectories in the images directory\n",
    "for folder_name in os.listdir(path):\n",
    "    folder_path = os.path.join(path, folder_name)\n",
    "    if os.path.isdir(folder_path):\n",
    "        # Iterate through all the images in the subdirectory\n",
    "        for image_name in os.listdir(folder_path):\n",
    "            image_path = os.path.join(folder_path, image_name)\n",
    "            # Load the image using PIL\n",
    "            image = Image.open(image_path)\n",
    "            # Resize the image to a fixed size\n",
    "            image = image.resize((32, 32))\n",
    "            # Convert the image to a numpy array\n",
    "            image = np.array(image)\n",
    "            # Add the image and its label to the list\n",
    "            images.append(image)\n",
    "            labels.append(folder_name)\n",
    "\n",
    "# Convert the lists to numpy arrays\n",
    "images = np.array(images)\n",
    "labels = np.array(labels)\n",
    "\n",
    "# Convert class vec`tors to binary class matrices\n",
    "num_classes = 43\n",
    "labels = keras.utils.to_categorical(labels, num_classes)\n"
   ]
  },
  {
   "cell_type": "code",
   "execution_count": 42,
   "id": "bf54dd2f",
   "metadata": {},
   "outputs": [
    {
     "name": "stdout",
     "output_type": "stream",
     "text": [
      "############### Alex net ###################\n",
      "1226/1226 [==============================] - 29s 23ms/step - loss: 0.2805 - accuracy: 0.9511\n",
      "Test loss: 0.280472993850708\n",
      "Test accuracy: 0.951133668422699\n",
      "############### Res net ###################\n",
      "1226/1226 [==============================] - 13s 10ms/step - loss: 0.2618 - accuracy: 0.9203\n",
      "Test loss: 0.2618231475353241\n",
      "Test accuracy: 0.920324444770813\n",
      "############### Modified Alex net ###################\n",
      "1226/1226 [==============================] - 36s 30ms/step - loss: 3.4871 - accuracy: 0.0566\n",
      "Test loss: 3.48710560798645\n",
      "Test accuracy: 0.05661965534090996\n",
      "############### Arch 2 ###################\n",
      "1226/1226 [==============================] - 24s 19ms/step - loss: 0.4682 - accuracy: 0.8788\n",
      "Test loss: 0.46820399165153503\n",
      "Test accuracy: 0.8788033127784729\n",
      "############### Arch 3 net ###################\n",
      "1226/1226 [==============================] - 23s 19ms/step - loss: 0.0641 - accuracy: 0.9908\n",
      "Test loss: 0.06414669007062912\n",
      "Test accuracy: 0.9907674193382263\n"
     ]
    }
   ],
   "source": [
    "test_all_models(images, labels)"
   ]
  },
  {
   "cell_type": "code",
   "execution_count": 43,
   "id": "b8a26467",
   "metadata": {},
   "outputs": [
    {
     "data": {
      "text/plain": [
       "(39209, 32, 32, 3)"
      ]
     },
     "execution_count": 43,
     "metadata": {},
     "output_type": "execute_result"
    }
   ],
   "source": [
    "images.shape"
   ]
  },
  {
   "cell_type": "markdown",
   "id": "5463334a",
   "metadata": {},
   "source": [
    "## Testing with custom data"
   ]
  },
  {
   "cell_type": "code",
   "execution_count": 26,
   "id": "3d1bf3ca",
   "metadata": {
    "scrolled": false
   },
   "outputs": [
    {
     "name": "stdout",
     "output_type": "stream",
     "text": [
      "1/1 [==============================] - 0s 415ms/step\n",
      "12 1.jpg\n",
      "14 10.jpg\n",
      "23 2.jpg\n",
      "41 3.jpg\n",
      "16 4.jpg\n",
      "2 5.jpg\n",
      "34 6.jpg\n",
      "15 7.jpg\n",
      "12 8.jpg\n",
      "40 9.jpg\n"
     ]
    }
   ],
   "source": [
    "import os\n",
    "import numpy as np\n",
    "from PIL import Image\n",
    "\n",
    "# Define the path to the images directory\n",
    "path = 'C:\\\\Users\\\\aksha\\\\Desktop\\\\test-images'\n",
    "\n",
    "# Create a dictionary to store the images and their labels\n",
    "images = []\n",
    "labels = []\n",
    "\n",
    "# Iterate through all the images in the subdirectory\n",
    "for image_name in os.listdir(path):\n",
    "    image_path = os.path.join(path, image_name)\n",
    "    # Load the image using PIL\n",
    "    image = Image.open(image_path)\n",
    "    # Resize the image to a fixed size\n",
    "    image = image.resize((32, 32))\n",
    "    # Convert the image to a numpy array\n",
    "    image = np.array(image)\n",
    "    # Add the image and its label to the list\n",
    "    images.append(image)\n",
    "    labels.append(image_name)\n",
    "\n",
    "# Convert the lists to numpy arrays\n",
    "images = np.array(images)\n",
    "\n",
    "# for image in images:\n",
    "predictions = arch3_model.predict(images)\n",
    "for i, prediction in enumerate(predictions):\n",
    "    idx = np.argmax(prediction)\n",
    "    print(idx, labels[i])\n",
    "\n",
    "# print('Test loss:', scores[0])\n",
    "# print('Test accuracy:', scores[1])"
   ]
  },
  {
   "cell_type": "code",
   "execution_count": 27,
   "id": "868cf466",
   "metadata": {},
   "outputs": [
    {
     "data": {
      "text/plain": [
       "(10, 32, 32, 3)"
      ]
     },
     "execution_count": 27,
     "metadata": {},
     "output_type": "execute_result"
    }
   ],
   "source": [
    "images.shape"
   ]
  },
  {
   "cell_type": "code",
   "execution_count": null,
   "id": "0422e449",
   "metadata": {},
   "outputs": [],
   "source": []
  }
 ],
 "metadata": {
  "kernelspec": {
   "display_name": "Python 3 (ipykernel)",
   "language": "python",
   "name": "python3"
  },
  "language_info": {
   "codemirror_mode": {
    "name": "ipython",
    "version": 3
   },
   "file_extension": ".py",
   "mimetype": "text/x-python",
   "name": "python",
   "nbconvert_exporter": "python",
   "pygments_lexer": "ipython3",
   "version": "3.9.13"
  }
 },
 "nbformat": 4,
 "nbformat_minor": 5
}
