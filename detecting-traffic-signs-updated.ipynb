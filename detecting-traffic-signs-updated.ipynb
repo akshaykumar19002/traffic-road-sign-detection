{
 "cells": [
  {
   "cell_type": "markdown",
   "id": "cce48eba",
   "metadata": {},
   "source": [
    "# Traffic Road Sign Detection"
   ]
  },
  {
   "cell_type": "markdown",
   "id": "5088dbb9",
   "metadata": {},
   "source": [
    "## Label classes\n",
    "\n",
    "* Speed limit (20km/h), Label = 0\n",
    "* Speed limit (30km/h), Label = 1\n",
    "* Speed limit (50km/h), Label = 2\n",
    "* Speed limit (60km/h), Label = 3\n",
    "* Speed limit (70km/h), Label = 4\n",
    "* Speed limit (80km/h), Label = 5\n",
    "* speed limit (80km/h), Label = 6\n",
    "* Speed limit (100km/h), Label = 7\n",
    "* Speed limit (120km/h), Label = 8\n",
    "* No passing, Label = 9\n",
    "* No passing for vehicles over 3.5 metric tons, Label = 10\n",
    "* Right-of-way at the next intersection, Label = 11 \n",
    "* Priority road, Label = 12\n",
    "* Yield, Label = 13\n",
    "* Stop, Label = 14\n",
    "* No vehicles, Label = 15\n",
    "* Vehicles over 3.5 metric tons prohibited, Label = 16\n",
    "* No entry, Label = 17\n",
    "* General caution, Label = 18\n",
    "* Dangerous curve to the left, Label = 19\n",
    "* Dangerous curve to the right, Label = 20\n",
    "* Double curve, Label = 21\n",
    "* Bumpy road, Label = 22\n",
    "* Slippery road, Label = 23\n",
    "* Road narrows on the right, Label = 24\n",
    "* Road work, Label = 25\n",
    "* Traffic signals, Label = 26\n",
    "* Pedestrians, Label = 27\n",
    "* Children crossing, Label = 28\n",
    "* Bicycles crossing, Label = 29\n",
    "* Beware of ice/snow, Label = 30\n",
    "* Wild animals crossing, Label = 31\n",
    "* End of all speed and passing limits, Label = 32\n",
    "* Turn right ahead, Label = 33\n",
    "* Turn left ahead, Label = 34\n",
    "* Ahead only, Label = 35\n",
    "* Go straight or right, Label = 36\n",
    "* Go straight or left, Label = 37\n",
    "* Keep right, Label = 38\n",
    "* Keep left, Label = 39\n",
    "* Roundabout mandatory, Label = 40\n",
    "* End of no passing, Label = 41\n",
    "* End of no passing by vehicles over 3.5 metric tons, Label = 42"
   ]
  },
  {
   "cell_type": "code",
   "execution_count": 47,
   "id": "8d2c115d",
   "metadata": {},
   "outputs": [],
   "source": [
    "label_classes = {\n",
    "    0: 'Speed Limit (20km/h)',\n",
    "    1: 'Speed Limit (30km/h)',\n",
    "    2: 'Speed Limit (50km/h)',\n",
    "    3: 'Speed Limit (60km/h)',\n",
    "    4: 'Speed Limit (70km/h)',\n",
    "    5: 'Speed Limit (80km/h)',\n",
    "    6: 'Speed Limit (80km/h)',\n",
    "    7: 'Speed Limit (100km/h)',\n",
    "    8: 'Speed Limit (120km/h)',\n",
    "    9: 'No passing',\n",
    "    10: 'No passing for vehicles over 3.5 metric tons',\n",
    "    11: 'Right-of-way at the next intersection',\n",
    "    12: 'Priority road',\n",
    "    13: 'Yield',\n",
    "    14: 'Stop',\n",
    "    15: 'No vehicles',\n",
    "    16: 'Vehicles over 3.5 metric tons prohibited',\n",
    "    17: 'No entry',\n",
    "    18: 'General Caution',\n",
    "    19: 'Dangerous curve to the left',\n",
    "    20: 'Dangerous curve to the right',\n",
    "    21: 'Double curve',\n",
    "    22: 'Bumpy road',\n",
    "    23: 'Slippery road',\n",
    "    24: 'Road narrows on the right',\n",
    "    25: 'Road work',\n",
    "    26: 'Traffic Signals',\n",
    "    27: 'Pedestrians',\n",
    "    28: 'Children crossing',\n",
    "    29: 'Bicycles crossing',\n",
    "    30: 'Beware of ice/snow',\n",
    "    31: 'Wild animals crossing',\n",
    "    32: 'End of all speed and passing limits',\n",
    "    33: 'Turn right ahead',\n",
    "    34: 'Turn left ahead',\n",
    "    35: 'Ahead only',\n",
    "    36: 'Go straight or right',\n",
    "    37: 'Go straight or left',\n",
    "    38: 'Keep right',\n",
    "    39: 'Keep left',\n",
    "    40: 'Roundabout mandatory',\n",
    "    41: 'End of no passing',\n",
    "    42: 'End of no passing by vehicles over 3.5 metric tons'\n",
    "}"
   ]
  },
  {
   "cell_type": "code",
   "execution_count": 1,
   "id": "96a1e1e7",
   "metadata": {},
   "outputs": [],
   "source": [
    "# !pip install pillow"
   ]
  },
  {
   "cell_type": "markdown",
   "id": "7b6e2316",
   "metadata": {},
   "source": [
    "## Importing libraries"
   ]
  },
  {
   "cell_type": "code",
   "execution_count": 2,
   "id": "1d31b6ce",
   "metadata": {},
   "outputs": [],
   "source": [
    "%matplotlib inline\n",
    "from matplotlib import pyplot as plt\n",
    "from PIL import Image as im\n",
    "import pickle\n",
    "import tensorflow as tf\n",
    "from tensorflow.keras.models import Sequential\n",
    "from tensorflow.keras.layers import Dense, Conv2D, MaxPooling2D, Dropout, Flatten\n",
    "import keras\n",
    "from tensorflow.keras import models, callbacks\n",
    "from keras import layers\n",
    "from keras.models import Model\n",
    "from keras.layers import Input, GlobalAveragePooling2D, concatenate, AveragePooling2D"
   ]
  },
  {
   "cell_type": "code",
   "execution_count": 3,
   "id": "0826fa60",
   "metadata": {},
   "outputs": [],
   "source": [
    "import pickle\n",
    "\n",
    "def load_data():\n",
    "    with open(\"C://Users//aksha//Downloads//archive//train.p\", \"rb\") as f:\n",
    "        train = pickle.load(f)\n",
    "\n",
    "    with open(\"C://Users//aksha//Downloads//archive//test.p\", \"rb\") as f:\n",
    "        test = pickle.load(f)\n",
    "\n",
    "    with open(\"C://Users//aksha//Downloads//archive//valid.p\", \"rb\") as f:\n",
    "        valid = pickle.load(f)\n",
    "\n",
    "    x_train, y_train = train['features'], train['labels']\n",
    "    x_test, y_test = test['features'], test['labels']\n",
    "    x_val, y_val = valid['features'], valid['labels']\n",
    "    \n",
    "    y_train = keras.utils.to_categorical(y_train, num_classes)\n",
    "    y_test = keras.utils.to_categorical(y_test, num_classes)\n",
    "    y_val = keras.utils.to_categorical(y_val, num_classes)\n",
    "    \n",
    "    return x_train, y_train, x_test, y_test, x_val, y_val\n",
    "\n",
    "# Convert class vectors to binary class matrices\n",
    "num_classes = 43"
   ]
  },
  {
   "cell_type": "code",
   "execution_count": 4,
   "id": "720e7a6b",
   "metadata": {},
   "outputs": [
    {
     "data": {
      "text/plain": [
       "((34799, 32, 32, 3), (34799, 43))"
      ]
     },
     "execution_count": 4,
     "metadata": {},
     "output_type": "execute_result"
    }
   ],
   "source": [
    "x_train, y_train, x_test, y_test, x_val, y_val = load_data()\n",
    "x_train.shape, y_train.shape"
   ]
  },
  {
   "cell_type": "code",
   "execution_count": 5,
   "id": "82efeb4c",
   "metadata": {},
   "outputs": [
    {
     "data": {
      "image/png": "[encoded data removed]",
      "text/plain": [
       "<Figure size 640x480 with 1 Axes>"
      ]
     },
     "metadata": {},
     "output_type": "display_data"
    }
   ],
   "source": [
    "plt.imshow(x_train[1024], cmap='gray')\n",
    "plt.show()"
   ]
  },
  {
   "cell_type": "code",
   "execution_count": 6,
   "id": "fdaea4a0",
   "metadata": {},
   "outputs": [],
   "source": [
    "def train_and_plot(model_name, model, epochs):\n",
    "    # Compile the model\n",
    "    model.compile(optimizer='adam', loss='categorical_crossentropy', metrics=['accuracy'])\n",
    "\n",
    "    # Define the checkpoint filename and callback function\n",
    "    checkpoint_filepath = model_name + '.h5'\n",
    "    model_checkpoint_callback = callbacks.ModelCheckpoint(\n",
    "        filepath=checkpoint_filepath,\n",
    "        save_weights_only=False,\n",
    "        monitor='val_loss',\n",
    "        mode='min',\n",
    "        save_best_only=True)\n",
    "    \n",
    "    stop = callbacks.EarlyStopping(monitor='val_loss', mode = 'min', patience = 30)\n",
    "\n",
    "    # Train the model\n",
    "    history = model.fit(x_train, y_train, shuffle=True, verbose=2,\n",
    "                        validation_data=(x_val, y_val), epochs=epochs, \n",
    "                        batch_size=32, callbacks=[stop, model_checkpoint_callback])\n",
    "    \n",
    "    # load best model\n",
    "    model = models.load_model(checkpoint_filepath)\n",
    "    \n",
    "    \n",
    "    # Plot the accuracy\n",
    "    plt.plot(history.history['accuracy'])\n",
    "    plt.plot(history.history['val_accuracy'])\n",
    "    plt.title('Model accuracy')\n",
    "    plt.ylabel('Accuracy')\n",
    "    plt.xlabel('Epoch')\n",
    "    plt.legend(['Train', 'Test'], loc='upper left')\n",
    "    plt.show()\n",
    "    \n",
    "    return model\n",
    "\n",
    "def test_model(model):\n",
    "    scores = model.evaluate(x_test, y_test, verbose=1)\n",
    "    print('Test loss:', scores[0])\n",
    "    print('Test accuracy:', scores[1])"
   ]
  },
  {
   "cell_type": "markdown",
   "id": "721b49d9",
   "metadata": {},
   "source": [
    "## Lenet - 5"
   ]
  },
  {
   "cell_type": "code",
   "execution_count": 7,
   "id": "3b1dc26f",
   "metadata": {},
   "outputs": [],
   "source": [
    "# Define the input shape\n",
    "input_shape = (32, 32, 3)\n",
    "\n",
    "# Define the LeNet-5 model\n",
    "model = models.Sequential([\n",
    "    # Convolutional layer 1\n",
    "    layers.Conv2D(filters=6, kernel_size=(5, 5), activation='relu', input_shape=input_shape),\n",
    "    # Max pooling layer 1\n",
    "    layers.MaxPooling2D(pool_size=(2, 2)),\n",
    "    # Convolutional layer 2\n",
    "    layers.Conv2D(filters=16, kernel_size=(5, 5), activation='relu'),\n",
    "    # Max pooling layer 2\n",
    "    layers.MaxPooling2D(pool_size=(2, 2)),\n",
    "    # Flatten the output\n",
    "    layers.Flatten(),\n",
    "    # Fully connected layer 1\n",
    "    layers.Dense(units=120, activation='relu'),\n",
    "    # Fully connected layer 2\n",
    "    layers.Dense(units=84, activation='relu'),\n",
    "    # Output layer\n",
    "    layers.Dense(units=num_classes, activation='softmax')\n",
    "])"
   ]
  },
  {
   "cell_type": "code",
   "execution_count": 8,
   "id": "19913a00",
   "metadata": {},
   "outputs": [
    {
     "name": "stdout",
     "output_type": "stream",
     "text": [
      "Epoch 1/10\n",
      "1088/1088 - 20s - loss: 1.6210 - accuracy: 0.7050 - val_loss: 0.9553 - val_accuracy: 0.7934 - 20s/epoch - 19ms/step\n",
      "Epoch 2/10\n",
      "1088/1088 - 18s - loss: 0.3080 - accuracy: 0.9179 - val_loss: 0.7055 - val_accuracy: 0.8678 - 18s/epoch - 17ms/step\n",
      "Epoch 3/10\n",
      "1088/1088 - 18s - loss: 0.2163 - accuracy: 0.9432 - val_loss: 0.9949 - val_accuracy: 0.8746 - 18s/epoch - 16ms/step\n",
      "Epoch 4/10\n",
      "1088/1088 - 18s - loss: 0.1942 - accuracy: 0.9505 - val_loss: 0.6982 - val_accuracy: 0.8751 - 18s/epoch - 17ms/step\n",
      "Epoch 5/10\n",
      "1088/1088 - 18s - loss: 0.1547 - accuracy: 0.9594 - val_loss: 1.0569 - val_accuracy: 0.8685 - 18s/epoch - 17ms/step\n",
      "Epoch 6/10\n",
      "1088/1088 - 18s - loss: 0.1550 - accuracy: 0.9630 - val_loss: 0.7842 - val_accuracy: 0.8846 - 18s/epoch - 17ms/step\n",
      "Epoch 7/10\n",
      "1088/1088 - 18s - loss: 0.1372 - accuracy: 0.9659 - val_loss: 0.8298 - val_accuracy: 0.9150 - 18s/epoch - 17ms/step\n",
      "Epoch 8/10\n",
      "1088/1088 - 18s - loss: 0.1484 - accuracy: 0.9659 - val_loss: 0.6973 - val_accuracy: 0.9039 - 18s/epoch - 17ms/step\n",
      "Epoch 9/10\n",
      "1088/1088 - 18s - loss: 0.0981 - accuracy: 0.9756 - val_loss: 1.9526 - val_accuracy: 0.8218 - 18s/epoch - 17ms/step\n",
      "Epoch 10/10\n",
      "1088/1088 - 18s - loss: 0.1168 - accuracy: 0.9711 - val_loss: 0.8795 - val_accuracy: 0.9063 - 18s/epoch - 17ms/step\n"
     ]
    },
    {
     "data": {
      "image/png": "[encoded data removed]",
      "text/plain": [
       "<Figure size 640x480 with 1 Axes>"
      ]
     },
     "metadata": {},
     "output_type": "display_data"
    },
    {
     "name": "stdout",
     "output_type": "stream",
     "text": [
      "395/395 [==============================] - 3s 8ms/step - loss: 0.9070 - accuracy: 0.8863\n",
      "Test loss: 0.9069985151290894\n",
      "Test accuracy: 0.8863024711608887\n"
     ]
    }
   ],
   "source": [
    "lesnet_model = train_and_plot('les-net5', model, 10);\n",
    "test_model(lesnet_model);"
   ]
  },
  {
   "cell_type": "markdown",
   "id": "3e5dd450",
   "metadata": {},
   "source": [
    "## VGG Net"
   ]
  },
  {
   "cell_type": "code",
   "execution_count": 9,
   "id": "b9c101bd",
   "metadata": {},
   "outputs": [],
   "source": [
    "input_shape = (32, 32, 3)\n",
    "\n",
    "# Define the VGGNet model\n",
    "model = Sequential([\n",
    "    # Convolutional layers and max pooling layers for block 1\n",
    "    Conv2D(32, (3, 3), activation='relu', padding='same', input_shape=input_shape),\n",
    "    Conv2D(32, (3, 3), activation='relu', padding='same'),\n",
    "    MaxPooling2D(pool_size=(2, 2)),\n",
    "    \n",
    "    # Convolutional layers and max pooling layers for block 2\n",
    "    Conv2D(64, (3, 3), activation='relu', padding='same'),\n",
    "    Conv2D(64, (3, 3), activation='relu', padding='same'),\n",
    "    MaxPooling2D(pool_size=(2, 2)),\n",
    "    \n",
    "    # Convolutional layers and max pooling layers for block 3\n",
    "    Conv2D(128, (3, 3), activation='relu', padding='same'),\n",
    "    Conv2D(128, (3, 3), activation='relu', padding='same'),\n",
    "    MaxPooling2D(pool_size=(2, 2)),\n",
    "    \n",
    "    # Flatten the output\n",
    "    Flatten(),\n",
    "    \n",
    "    # Fully connected layers\n",
    "    Dense(512, activation='relu'),\n",
    "    Dropout(0.5),\n",
    "    Dense(num_classes, activation='softmax')\n",
    "])"
   ]
  },
  {
   "cell_type": "code",
   "execution_count": 10,
   "id": "06320678",
   "metadata": {
    "scrolled": true
   },
   "outputs": [
    {
     "name": "stdout",
     "output_type": "stream",
     "text": [
      "Epoch 1/10\n",
      "1088/1088 - 107s - loss: 1.1390 - accuracy: 0.6948 - val_loss: 0.3351 - val_accuracy: 0.9224 - 107s/epoch - 99ms/step\n",
      "Epoch 2/10\n",
      "1088/1088 - 122s - loss: 0.1625 - accuracy: 0.9562 - val_loss: 0.2540 - val_accuracy: 0.9476 - 122s/epoch - 112ms/step\n",
      "Epoch 3/10\n",
      "1088/1088 - 121s - loss: 0.1180 - accuracy: 0.9685 - val_loss: 0.3176 - val_accuracy: 0.9184 - 121s/epoch - 111ms/step\n",
      "Epoch 4/10\n",
      "1088/1088 - 111s - loss: 0.1053 - accuracy: 0.9751 - val_loss: 0.3053 - val_accuracy: 0.9358 - 111s/epoch - 102ms/step\n",
      "Epoch 5/10\n",
      "1088/1088 - 110s - loss: 0.0916 - accuracy: 0.9769 - val_loss: 0.2580 - val_accuracy: 0.9388 - 110s/epoch - 101ms/step\n",
      "Epoch 6/10\n",
      "1088/1088 - 104s - loss: 0.0977 - accuracy: 0.9762 - val_loss: 0.3695 - val_accuracy: 0.9488 - 104s/epoch - 96ms/step\n",
      "Epoch 7/10\n",
      "1088/1088 - 104s - loss: 0.0985 - accuracy: 0.9775 - val_loss: 0.3207 - val_accuracy: 0.9449 - 104s/epoch - 95ms/step\n",
      "Epoch 8/10\n",
      "1088/1088 - 102s - loss: 0.1017 - accuracy: 0.9782 - val_loss: 0.3955 - val_accuracy: 0.9499 - 102s/epoch - 94ms/step\n",
      "Epoch 9/10\n",
      "1088/1088 - 105s - loss: 0.0784 - accuracy: 0.9831 - val_loss: 0.2161 - val_accuracy: 0.9637 - 105s/epoch - 97ms/step\n",
      "Epoch 10/10\n",
      "1088/1088 - 105s - loss: 0.0760 - accuracy: 0.9831 - val_loss: 0.3359 - val_accuracy: 0.9587 - 105s/epoch - 96ms/step\n"
     ]
    },
    {
     "data": {
      "image/png": "[encoded data removed]",
      "text/plain": [
       "<Figure size 640x480 with 1 Axes>"
      ]
     },
     "metadata": {},
     "output_type": "display_data"
    },
    {
     "name": "stdout",
     "output_type": "stream",
     "text": [
      "395/395 [==============================] - 13s 31ms/step - loss: 0.3237 - accuracy: 0.9508\n",
      "Test loss: 0.32366645336151123\n",
      "Test accuracy: 0.9507521986961365\n"
     ]
    }
   ],
   "source": [
    "vgg_model = train_and_plot('vgg-net', model, 10);\n",
    "test_model(vgg_model);"
   ]
  },
  {
   "cell_type": "markdown",
   "id": "d6476c5e",
   "metadata": {},
   "source": [
    "## Inception-v3"
   ]
  },
  {
   "cell_type": "code",
   "execution_count": 11,
   "id": "7204f25e",
   "metadata": {},
   "outputs": [],
   "source": [
    "# Define the Inception-v3 model\n",
    "model = models.Sequential([\n",
    "    # Input layer\n",
    "    layers.Input(shape=input_shape),\n",
    "    \n",
    "    # Downsampling layer 1\n",
    "    layers.Conv2D(32, kernel_size=(3, 3), strides=(2, 2), padding='same', activation='relu'),\n",
    "    layers.MaxPooling2D(pool_size=(2, 2), strides=(1, 1), padding='same'),\n",
    "    \n",
    "    # Downsampling layer 2\n",
    "    layers.Conv2D(64, kernel_size=(3, 3), strides=(2, 2), padding='same', activation='relu'),\n",
    "    layers.MaxPooling2D(pool_size=(2, 2), strides=(1, 1), padding='same'),\n",
    "\n",
    "    # Inception modules\n",
    "    layers.Conv2D(64, kernel_size=(1, 1), activation='relu', padding='same'),\n",
    "    layers.Conv2D(192, kernel_size=(3, 3), activation='relu', padding='same'),\n",
    "    layers.MaxPooling2D(pool_size=(2, 2), strides=(2, 2), padding='same'),\n",
    "\n",
    "    layers.Conv2D(64, kernel_size=(1, 1), activation='relu', padding='same'),\n",
    "    layers.Conv2D(192, kernel_size=(3, 3), activation='relu', padding='same'),\n",
    "    layers.MaxPooling2D(pool_size=(2, 2), strides=(2, 2), padding='same'),\n",
    "\n",
    "    layers.Conv2D(64, kernel_size=(1, 1), activation='relu', padding='same'),\n",
    "    layers.Conv2D(192, kernel_size=(3, 3), activation='relu', padding='same'),\n",
    "    layers.MaxPooling2D(pool_size=(2, 2), strides=(2, 2), padding='same'),\n",
    "\n",
    "    # Flatten the output\n",
    "    layers.Flatten(),\n",
    "\n",
    "    # Fully connected layers\n",
    "    layers.Dense(1024, activation='relu'),\n",
    "    layers.Dropout(0.4),\n",
    "    layers.Dense(num_classes, activation='softmax')\n",
    "])"
   ]
  },
  {
   "cell_type": "code",
   "execution_count": 12,
   "id": "09ea2e45",
   "metadata": {
    "scrolled": true
   },
   "outputs": [
    {
     "name": "stdout",
     "output_type": "stream",
     "text": [
      "Epoch 1/10\n",
      "1088/1088 - 51s - loss: 1.6351 - accuracy: 0.4895 - val_loss: 0.9992 - val_accuracy: 0.6957 - 51s/epoch - 46ms/step\n",
      "Epoch 2/10\n",
      "1088/1088 - 47s - loss: 0.4939 - accuracy: 0.8395 - val_loss: 0.5633 - val_accuracy: 0.8429 - 47s/epoch - 43ms/step\n",
      "Epoch 3/10\n",
      "1088/1088 - 48s - loss: 0.2921 - accuracy: 0.9104 - val_loss: 0.5755 - val_accuracy: 0.8603 - 48s/epoch - 44ms/step\n",
      "Epoch 4/10\n",
      "1088/1088 - 49s - loss: 0.2436 - accuracy: 0.9286 - val_loss: 0.4808 - val_accuracy: 0.8785 - 49s/epoch - 45ms/step\n",
      "Epoch 5/10\n",
      "1088/1088 - 47s - loss: 0.2021 - accuracy: 0.9425 - val_loss: 0.5307 - val_accuracy: 0.8678 - 47s/epoch - 43ms/step\n",
      "Epoch 6/10\n",
      "1088/1088 - 46s - loss: 0.1936 - accuracy: 0.9445 - val_loss: 0.4357 - val_accuracy: 0.9002 - 46s/epoch - 42ms/step\n",
      "Epoch 7/10\n",
      "1088/1088 - 46s - loss: 0.1928 - accuracy: 0.9480 - val_loss: 0.5271 - val_accuracy: 0.8701 - 46s/epoch - 42ms/step\n",
      "Epoch 8/10\n",
      "1088/1088 - 46s - loss: 0.1657 - accuracy: 0.9553 - val_loss: 0.4817 - val_accuracy: 0.9025 - 46s/epoch - 42ms/step\n",
      "Epoch 9/10\n",
      "1088/1088 - 47s - loss: 0.1731 - accuracy: 0.9536 - val_loss: 0.4098 - val_accuracy: 0.9161 - 47s/epoch - 43ms/step\n",
      "Epoch 10/10\n",
      "1088/1088 - 46s - loss: 0.1778 - accuracy: 0.9551 - val_loss: 0.3705 - val_accuracy: 0.9098 - 46s/epoch - 42ms/step\n"
     ]
    },
    {
     "data": {
      "image/png": "[encoded data removed]",
      "text/plain": [
       "<Figure size 640x480 with 1 Axes>"
      ]
     },
     "metadata": {},
     "output_type": "display_data"
    },
    {
     "name": "stdout",
     "output_type": "stream",
     "text": [
      "395/395 [==============================] - 8s 19ms/step - loss: 0.6195 - accuracy: 0.8818\n",
      "Test loss: 0.6195180416107178\n",
      "Test accuracy: 0.8817893862724304\n"
     ]
    }
   ],
   "source": [
    "inception_model = train_and_plot('inception-v3', model, 10);\n",
    "test_model(inception_model);"
   ]
  },
  {
   "cell_type": "markdown",
   "id": "6c08984b",
   "metadata": {},
   "source": [
    "## Resnet"
   ]
  },
  {
   "cell_type": "code",
   "execution_count": 13,
   "id": "0422e449",
   "metadata": {},
   "outputs": [],
   "source": [
    "# Define the ResNet model\n",
    "def resnet_block(input_data, filters, conv_size):\n",
    "    x = layers.Conv2D(filters, conv_size, padding='same')(input_data)\n",
    "    x = layers.BatchNormalization()(x)\n",
    "    x = layers.Activation('relu')(x)\n",
    "\n",
    "    x = layers.Conv2D(filters, conv_size, padding='same')(x)\n",
    "    x = layers.BatchNormalization()(x)\n",
    "    x = layers.Activation('relu')(x)\n",
    "\n",
    "    x = layers.add([x, input_data])\n",
    "    x = layers.Activation('relu')(x)\n",
    "    return x\n",
    "\n",
    "inputs = layers.Input(shape=input_shape)\n",
    "\n",
    "x = layers.Conv2D(32, 3, activation='relu')(inputs)\n",
    "x = layers.Conv2D(64, 3, activation='relu')(x)\n",
    "x = layers.MaxPooling2D(3)(x)\n",
    "\n",
    "num_resnet_blocks = 6\n",
    "filters = 64\n",
    "for i in range(num_resnet_blocks):\n",
    "    x = resnet_block(x, filters, 3)\n",
    "\n",
    "x = layers.Conv2D(64, 3, activation='relu')(x)\n",
    "x = layers.GlobalAveragePooling2D()(x)\n",
    "outputs = layers.Dense(num_classes, activation='softmax')(x)\n",
    "\n",
    "model = models.Model(inputs, outputs)"
   ]
  },
  {
   "cell_type": "code",
   "execution_count": 14,
   "id": "2641074f",
   "metadata": {},
   "outputs": [
    {
     "name": "stdout",
     "output_type": "stream",
     "text": [
      "Epoch 1/10\n",
      "1088/1088 - 237s - loss: 1.4640 - accuracy: 0.6130 - val_loss: 0.9242 - val_accuracy: 0.7381 - 237s/epoch - 218ms/step\n",
      "Epoch 2/10\n",
      "1088/1088 - 219s - loss: 0.1138 - accuracy: 0.9661 - val_loss: 0.7882 - val_accuracy: 0.8075 - 219s/epoch - 202ms/step\n",
      "Epoch 3/10\n",
      "1088/1088 - 239s - loss: 0.0695 - accuracy: 0.9790 - val_loss: 0.1794 - val_accuracy: 0.9592 - 239s/epoch - 220ms/step\n",
      "Epoch 4/10\n",
      "1088/1088 - 228s - loss: 0.0554 - accuracy: 0.9836 - val_loss: 0.4357 - val_accuracy: 0.9120 - 228s/epoch - 210ms/step\n",
      "Epoch 5/10\n",
      "1088/1088 - 252s - loss: 0.0374 - accuracy: 0.9880 - val_loss: 0.5181 - val_accuracy: 0.8853 - 252s/epoch - 232ms/step\n",
      "Epoch 6/10\n",
      "1088/1088 - 225s - loss: 0.0398 - accuracy: 0.9884 - val_loss: 0.2127 - val_accuracy: 0.9426 - 225s/epoch - 206ms/step\n",
      "Epoch 7/10\n",
      "1088/1088 - 234s - loss: 0.0350 - accuracy: 0.9901 - val_loss: 0.1080 - val_accuracy: 0.9696 - 234s/epoch - 215ms/step\n",
      "Epoch 8/10\n",
      "1088/1088 - 243s - loss: 0.0222 - accuracy: 0.9934 - val_loss: 0.1108 - val_accuracy: 0.9692 - 243s/epoch - 223ms/step\n",
      "Epoch 9/10\n",
      "1088/1088 - 242s - loss: 0.0243 - accuracy: 0.9931 - val_loss: 0.1625 - val_accuracy: 0.9621 - 242s/epoch - 222ms/step\n",
      "Epoch 10/10\n",
      "1088/1088 - 230s - loss: 0.0262 - accuracy: 0.9926 - val_loss: 0.2283 - val_accuracy: 0.9385 - 230s/epoch - 211ms/step\n"
     ]
    },
    {
     "data": {
      "image/png": "[encoded data removed]",
      "text/plain": [
       "<Figure size 640x480 with 1 Axes>"
      ]
     },
     "metadata": {},
     "output_type": "display_data"
    },
    {
     "name": "stdout",
     "output_type": "stream",
     "text": [
      "395/395 [==============================] - 29s 73ms/step - loss: 0.2489 - accuracy: 0.9464\n",
      "Test loss: 0.24890018999576569\n",
      "Test accuracy: 0.9463974833488464\n"
     ]
    }
   ],
   "source": [
    "resnet_model = train_and_plot('resnet', model, 10);\n",
    "test_model(resnet_model);"
   ]
  },
  {
   "cell_type": "markdown",
   "id": "04ead4a0",
   "metadata": {},
   "source": [
    "## MobileNet"
   ]
  },
  {
   "cell_type": "code",
   "execution_count": 15,
   "id": "3dcbd537",
   "metadata": {},
   "outputs": [],
   "source": [
    "# import tensorflow as tf\n",
    "# from tensorflow.keras import layers, models\n",
    "\n",
    "# # Define the input shape\n",
    "# input_shape = (32, 32, 3)\n",
    "\n",
    "# # Define the MobileNet model\n",
    "# def mobilenet():\n",
    "#     inputs = layers.Input(shape=input_shape)\n",
    "\n",
    "#     x = layers.Conv2D(32, 3, strides=(2, 2), padding='same')(inputs)\n",
    "#     x = layers.BatchNormalization()(x)\n",
    "#     x = layers.ReLU()(x)\n",
    "\n",
    "#     x = depthwise_separable_conv_block(x, 64, (1, 1), strides=(1, 1))\n",
    "#     x = depthwise_separable_conv_block(x, 128, (1, 1), strides=(2, 2))\n",
    "#     x = depthwise_separable_conv_block(x, 128, (1, 1), strides=(1, 1))\n",
    "#     x = depthwise_separable_conv_block(x, 256, (1, 1), strides=(2, 2))\n",
    "#     x = depthwise_separable_conv_block(x, 256, (1, 1), strides=(1, 1))\n",
    "#     x = depthwise_separable_conv_block(x, 512, (1, 1), strides=(2, 2))\n",
    "#     for i in range(5):\n",
    "#         x = depthwise_separable_conv_block(x, 512, (1, 1), strides=(1, 1))\n",
    "#     x = depthwise_separable_conv_block(x, 1024, (1, 1), strides=(2, 2))\n",
    "#     x = depthwise_separable_conv_block(x, 1024, (1, 1), strides=(1, 1))\n",
    "\n",
    "#     x = layers.GlobalAveragePooling2D()(x)\n",
    "#     outputs = layers.Dense(num_classes, activation='softmax')(x)\n",
    "\n",
    "#     model = models.Model(inputs, outputs)\n",
    "\n",
    "#     return model\n",
    "\n",
    "# def depthwise_separable_conv_block(inputs, filters, kernel_size, strides):\n",
    "#     x = layers.DepthwiseConv2D(kernel_size, strides=strides, padding='same')(inputs)\n",
    "#     x = layers.BatchNormalization()(x)\n",
    "#     x = layers.ReLU()(x)\n",
    "\n",
    "#     x = layers.Conv2D(filters, (1, 1), strides=(1, 1), padding='same')(x)\n",
    "#     x = layers.BatchNormalization()(x)\n",
    "#     x = layers.ReLU()(x)\n",
    "\n",
    "#     return x\n",
    "\n",
    "# # Compile the model\n",
    "# model = mobilenet()"
   ]
  },
  {
   "cell_type": "code",
   "execution_count": 16,
   "id": "97eafc46",
   "metadata": {},
   "outputs": [],
   "source": [
    "# mobilenet_model = train_and_plot('mobilenet', model, 10);\n",
    "# test_model(mobilenet_model);"
   ]
  },
  {
   "cell_type": "markdown",
   "id": "79c29ad6",
   "metadata": {},
   "source": [
    "## Testing with other datasets"
   ]
  },
  {
   "cell_type": "code",
   "execution_count": 17,
   "id": "0d0009ea",
   "metadata": {},
   "outputs": [],
   "source": [
    "def test_model(model_name, model, test_images, test_labels):\n",
    "    scores = model.evaluate(test_images, test_labels, verbose=1)\n",
    "    print('\\n' + model_name)\n",
    "    print('Test loss:', scores[0])\n",
    "    print('Test accuracy:', scores[1])\n",
    "    print('*******************************')\n",
    "    print('')\n",
    "    \n",
    "def evaluate_dataset(test_images, test_labels):\n",
    "    test_model('lesnet', model, test_images, test_labels)\n",
    "    test_model('vgg-model', vgg_model, test_images, test_labels)\n",
    "    test_model('inception', inception_model, test_images, test_labels)\n",
    "    test_model('resnet', resnet_model, test_images, test_labels)\n",
    "#     test_model('mobilenet', mobilenet_model, test_images, test_labels)"
   ]
  },
  {
   "cell_type": "code",
   "execution_count": 18,
   "id": "933c55a7",
   "metadata": {},
   "outputs": [],
   "source": [
    "import os\n",
    "import numpy as np\n",
    "from PIL import Image\n",
    "\n",
    "# Define the path to the images directory\n",
    "path = 'C:\\\\Users\\\\aksha\\\\Downloads\\\\Dataset\\\\Dataset 2\\\\Train'\n",
    "\n",
    "# Create a dictionary to store the images and their labels\n",
    "images = []\n",
    "labels = []\n",
    "\n",
    "# Iterate through all the subdirectories in the images directory\n",
    "for folder_name in os.listdir(path):\n",
    "    folder_path = os.path.join(path, folder_name)\n",
    "    if os.path.isdir(folder_path):\n",
    "        # Iterate through all the images in the subdirectory\n",
    "        for image_name in os.listdir(folder_path):\n",
    "            image_path = os.path.join(folder_path, image_name)\n",
    "            # Load the image using PIL\n",
    "            image = Image.open(image_path)\n",
    "            # Resize the image to a fixed size\n",
    "            image = image.resize((32, 32))\n",
    "            # Convert the image to a numpy array\n",
    "            image = np.array(image)\n",
    "            # Add the image and its label to the list\n",
    "            images.append(image)\n",
    "            labels.append(folder_name)\n",
    "\n",
    "# Convert the lists to numpy arrays\n",
    "images = np.array(images)\n",
    "labels = np.array(labels)\n",
    "\n",
    "# Convert class vec`tors to binary class matrices\n",
    "num_classes = 43\n",
    "labels = keras.utils.to_categorical(labels, num_classes)"
   ]
  },
  {
   "cell_type": "code",
   "execution_count": 19,
   "id": "d8cc3b98",
   "metadata": {},
   "outputs": [
    {
     "name": "stdout",
     "output_type": "stream",
     "text": [
      "1226/1226 [==============================] - 91s 74ms/step - loss: 0.0773 - accuracy: 0.9774\n",
      "\n",
      "lesnet\n",
      "Test loss: 0.07730729132890701\n",
      "Test accuracy: 0.977428674697876\n",
      "*******************************\n",
      "\n",
      "1226/1226 [==============================] - 29s 24ms/step - loss: 0.0409 - accuracy: 0.9913\n",
      "\n",
      "vgg-model\n",
      "Test loss: 0.04094230383634567\n",
      "Test accuracy: 0.9912520051002502\n",
      "*******************************\n",
      "\n",
      "1226/1226 [==============================] - 18s 15ms/step - loss: 0.1423 - accuracy: 0.9652\n",
      "\n",
      "inception\n",
      "Test loss: 0.1423255056142807\n",
      "Test accuracy: 0.9651610851287842\n",
      "*******************************\n",
      "\n",
      "1226/1226 [==============================] - 75s 61ms/step - loss: 0.0328 - accuracy: 0.9901\n",
      "\n",
      "resnet\n",
      "Test loss: 0.03283683583140373\n",
      "Test accuracy: 0.9900532960891724\n",
      "*******************************\n",
      "\n"
     ]
    }
   ],
   "source": [
    "evaluate_dataset(images, labels)"
   ]
  },
  {
   "cell_type": "markdown",
   "id": "e4aa3e32",
   "metadata": {},
   "source": [
    "## Dataset 3"
   ]
  },
  {
   "cell_type": "code",
   "execution_count": 20,
   "id": "482a3237",
   "metadata": {},
   "outputs": [],
   "source": [
    "import os\n",
    "import numpy as np\n",
    "from PIL import Image\n",
    "\n",
    "# Define the path to the images directory\n",
    "path = 'C:\\\\Users\\\\aksha\\\\Downloads\\\\Dataset\\\\Dataset_3\\\\Train'\n",
    "\n",
    "# Create a dictionary to store the images and their labels\n",
    "images = []\n",
    "labels = []\n",
    "\n",
    "# Iterate through all the subdirectories in the images directory\n",
    "for folder_name in os.listdir(path):\n",
    "    folder_path = os.path.join(path, folder_name)\n",
    "    if os.path.isdir(folder_path):\n",
    "        # Iterate through all the images in the subdirectory\n",
    "        for image_name in os.listdir(folder_path):\n",
    "            image_path = os.path.join(folder_path, image_name)\n",
    "            # Load the image using PIL\n",
    "            image = Image.open(image_path)\n",
    "            # Resize the image to a fixed size\n",
    "            image = image.resize((32, 32))\n",
    "            # Convert the image to a numpy array\n",
    "            image = np.array(image)\n",
    "            # Add the image and its label to the list\n",
    "            images.append(image)\n",
    "            labels.append(folder_name)\n",
    "\n",
    "# Convert the lists to numpy arrays\n",
    "images = np.array(images)\n",
    "labels = np.array(labels)\n",
    "\n",
    "# Convert class vec`tors to binary class matrices\n",
    "num_classes = 43\n",
    "labels = keras.utils.to_categorical(labels, num_classes)\n"
   ]
  },
  {
   "cell_type": "code",
   "execution_count": 21,
   "id": "f172fffb",
   "metadata": {},
   "outputs": [
    {
     "name": "stdout",
     "output_type": "stream",
     "text": [
      "1226/1226 [==============================] - 72s 59ms/step - loss: 0.0773 - accuracy: 0.9774\n",
      "\n",
      "lesnet\n",
      "Test loss: 0.07730729132890701\n",
      "Test accuracy: 0.977428674697876\n",
      "*******************************\n",
      "\n",
      "1226/1226 [==============================] - 29s 23ms/step - loss: 0.0409 - accuracy: 0.9913\n",
      "\n",
      "vgg-model\n",
      "Test loss: 0.04094230383634567\n",
      "Test accuracy: 0.9912520051002502\n",
      "*******************************\n",
      "\n",
      "1226/1226 [==============================] - 17s 14ms/step - loss: 0.1423 - accuracy: 0.9652\n",
      "\n",
      "inception\n",
      "Test loss: 0.1423255056142807\n",
      "Test accuracy: 0.9651610851287842\n",
      "*******************************\n",
      "\n",
      "1226/1226 [==============================] - 74s 61ms/step - loss: 0.0328 - accuracy: 0.9901\n",
      "\n",
      "resnet\n",
      "Test loss: 0.03283683583140373\n",
      "Test accuracy: 0.9900532960891724\n",
      "*******************************\n",
      "\n"
     ]
    }
   ],
   "source": [
    "evaluate_dataset(images, labels)"
   ]
  },
  {
   "cell_type": "markdown",
   "id": "fe85962f",
   "metadata": {},
   "source": [
    "## Dataset 4"
   ]
  },
  {
   "cell_type": "code",
   "execution_count": 22,
   "id": "acff96b2",
   "metadata": {},
   "outputs": [],
   "source": [
    "import os\n",
    "import numpy as np\n",
    "from PIL import Image\n",
    "\n",
    "# Define the path to the images directory\n",
    "path = 'C:\\\\Users\\\\aksha\\\\Downloads\\\\Dataset\\\\Dataset_4\\\\Train'\n",
    "\n",
    "# Create a dictionary to store the images and their labels\n",
    "images = []\n",
    "labels = []\n",
    "\n",
    "# Iterate through all the subdirectories in the images directory\n",
    "for folder_name in os.listdir(path):\n",
    "    folder_path = os.path.join(path, folder_name)\n",
    "    if os.path.isdir(folder_path):\n",
    "        # Iterate through all the images in the subdirectory\n",
    "        for image_name in os.listdir(folder_path):\n",
    "            image_path = os.path.join(folder_path, image_name)\n",
    "            # Load the image using PIL\n",
    "            image = Image.open(image_path)\n",
    "            # Resize the image to a fixed size\n",
    "            image = image.resize((32, 32))\n",
    "            # Convert the image to a numpy array\n",
    "            image = np.array(image)\n",
    "            # Add the image and its label to the list\n",
    "            images.append(image)\n",
    "            labels.append(folder_name)\n",
    "\n",
    "# Convert the lists to numpy arrays\n",
    "images = np.array(images)\n",
    "labels = np.array(labels)\n",
    "\n",
    "# Convert class vec`tors to binary class matrices\n",
    "num_classes = 43\n",
    "labels = keras.utils.to_categorical(labels, num_classes)\n"
   ]
  },
  {
   "cell_type": "code",
   "execution_count": 23,
   "id": "dc0d4421",
   "metadata": {},
   "outputs": [
    {
     "name": "stdout",
     "output_type": "stream",
     "text": [
      "1103/1103 [==============================] - 63s 57ms/step - loss: 0.0776 - accuracy: 0.9773\n",
      "\n",
      "lesnet\n",
      "Test loss: 0.07757546752691269\n",
      "Test accuracy: 0.9773010611534119\n",
      "*******************************\n",
      "\n",
      "1103/1103 [==============================] - 24s 22ms/step - loss: 0.0419 - accuracy: 0.9911\n",
      "\n",
      "vgg-model\n",
      "Test loss: 0.04188678413629532\n",
      "Test accuracy: 0.9910734295845032\n",
      "*******************************\n",
      "\n",
      "1103/1103 [==============================] - 18s 17ms/step - loss: 0.1400 - accuracy: 0.9652\n",
      "\n",
      "inception\n",
      "Test loss: 0.14003126323223114\n",
      "Test accuracy: 0.9652289748191833\n",
      "*******************************\n",
      "\n",
      "1103/1103 [==============================] - 92s 84ms/step - loss: 0.0337 - accuracy: 0.9897\n",
      "\n",
      "resnet\n",
      "Test loss: 0.033719588071107864\n",
      "Test accuracy: 0.9897415637969971\n",
      "*******************************\n",
      "\n"
     ]
    }
   ],
   "source": [
    "evaluate_dataset(images, labels)"
   ]
  },
  {
   "cell_type": "code",
   "execution_count": 38,
   "id": "be0f665d",
   "metadata": {},
   "outputs": [
    {
     "data": {
      "image/png": "[encoded data removed]",
      "text/plain": [
       "<Figure size 640x480 with 1 Axes>"
      ]
     },
     "metadata": {},
     "output_type": "display_data"
    }
   ],
   "source": [
    "def resize_image(input_image_path, size=(32, 32)):\n",
    "    image = im.open(input_image_path)\n",
    "    resized_image = image.resize(size)\n",
    "    return np.array(resized_image)[np.newaxis, ...]\n",
    "\n",
    "input_image_path = './stop.jpg'\n",
    "\n",
    "image = resize_image(input_image_path)\n",
    "plt.imshow(image[0], cmap='gray')\n",
    "plt.show()"
   ]
  },
  {
   "cell_type": "code",
   "execution_count": 49,
   "id": "19697312",
   "metadata": {},
   "outputs": [
    {
     "name": "stdout",
     "output_type": "stream",
     "text": [
      "1/1 [==============================] - 0s 19ms/step\n",
      "vgg\n",
      "Predicted class index: 14  :: Label:  Stop\n",
      "Predicted probability: 0.9999975\n",
      "\n",
      "1/1 [==============================] - 0s 17ms/step\n",
      "inception\n",
      "Predicted class index: 14  :: Label:  Stop\n",
      "Predicted probability: 1.0\n",
      "\n",
      "1/1 [==============================] - 0s 20ms/step\n",
      "resnet\n",
      "Predicted class index: 14  :: Label:  Stop\n",
      "Predicted probability: 0.999998\n",
      "\n"
     ]
    }
   ],
   "source": [
    "def predict_image(model_name, model, image):\n",
    "    prediction = model.predict(image)\n",
    "    predicted_class_index = np.argmax(prediction[0])\n",
    "    predicted_probability = prediction[0][predicted_class_index]\n",
    "    print(model_name)\n",
    "    print(\"Predicted class index:\", predicted_class_index, \" :: Label: \", label_classes[predicted_class_index])\n",
    "    print(\"Predicted probability:\", predicted_probability)\n",
    "    print()\n",
    "    \n",
    "def predict(image):\n",
    "#     predict_image('lesnet', lesnet_model, image)\n",
    "    predict_image('vgg', vgg_model, image)\n",
    "    predict_image('inception', inception_model, image)\n",
    "    predict_image('resnet', resnet_model, image)\n",
    "    \n",
    "predict(image)"
   ]
  },
  {
   "cell_type": "code",
   "execution_count": 51,
   "id": "d3bb6a41",
   "metadata": {},
   "outputs": [
    {
     "data": {
      "image/png": "[encoded data removed]",
      "text/plain": [
       "<Figure size 640x480 with 1 Axes>"
      ]
     },
     "metadata": {},
     "output_type": "display_data"
    },
    {
     "name": "stdout",
     "output_type": "stream",
     "text": [
      "1/1 [==============================] - 0s 18ms/step\n",
      "vgg\n",
      "Predicted class index: 34  :: Label:  Turn left ahead\n",
      "Predicted probability: 0.99966824\n",
      "\n",
      "1/1 [==============================] - 0s 18ms/step\n",
      "inception\n",
      "Predicted class index: 38  :: Label:  Keep right\n",
      "Predicted probability: 0.62595904\n",
      "\n",
      "1/1 [==============================] - 0s 22ms/step\n",
      "resnet\n",
      "Predicted class index: 38  :: Label:  Keep right\n",
      "Predicted probability: 0.92634714\n",
      "\n"
     ]
    }
   ],
   "source": [
    "input_image_path = './keep-right.jpg'\n",
    "\n",
    "image = resize_image(input_image_path)\n",
    "plt.imshow(image[0], cmap='gray')\n",
    "plt.show()\n",
    "predict(image)"
   ]
  },
  {
   "cell_type": "code",
   "execution_count": 54,
   "id": "1d3009ef",
   "metadata": {},
   "outputs": [
    {
     "data": {
      "image/png": "[encoded data removed]",
      "text/plain": [
       "<Figure size 640x480 with 1 Axes>"
      ]
     },
     "metadata": {},
     "output_type": "display_data"
    },
    {
     "name": "stdout",
     "output_type": "stream",
     "text": [
      "1/1 [==============================] - 0s 45ms/step\n",
      "vgg\n",
      "Predicted class index: 1  :: Label:  Speed Limit (30km/h)\n",
      "Predicted probability: 0.8917743\n",
      "\n",
      "1/1 [==============================] - 0s 40ms/step\n",
      "inception\n",
      "Predicted class index: 1  :: Label:  Speed Limit (30km/h)\n",
      "Predicted probability: 0.9472954\n",
      "\n",
      "1/1 [==============================] - 0s 51ms/step\n",
      "resnet\n",
      "Predicted class index: 19  :: Label:  Dangerous curve to the left\n",
      "Predicted probability: 0.5374969\n",
      "\n"
     ]
    }
   ],
   "source": [
    "input_image_path = './Dangerous curve to the left.jpeg'\n",
    "\n",
    "image = resize_image(input_image_path)\n",
    "plt.imshow(image[0], cmap='gray')\n",
    "plt.show()\n",
    "predict(image)"
   ]
  },
  {
   "cell_type": "code",
   "execution_count": null,
   "id": "cf9dcc4d",
   "metadata": {},
   "outputs": [],
   "source": []
  }
 ],
 "metadata": {
  "kernelspec": {
   "display_name": "Python 3 (ipykernel)",
   "language": "python",
   "name": "python3"
  },
  "language_info": {
   "codemirror_mode": {
    "name": "ipython",
    "version": 3
   },
   "file_extension": ".py",
   "mimetype": "text/x-python",
   "name": "python",
   "nbconvert_exporter": "python",
   "pygments_lexer": "ipython3",
   "version": "3.9.13"
  }
 },
 "nbformat": 4,
 "nbformat_minor": 5
}
